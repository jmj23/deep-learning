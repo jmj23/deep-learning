{
 "cells": [
  {
   "cell_type": "markdown",
   "metadata": {},
   "source": [
    "# Dependencies\n",
    "    1. pydicom: conda install -c conda-forge --no-deps pydicom\n",
    "    2. pip install keras\n",
    "    3. conda install scikit-image\n",
    "    4. conda install scipy\n",
    "    5. Demo_functions.py must be on path"
   ]
  },
  {
   "cell_type": "markdown",
   "metadata": {},
   "source": [
    "# Introduction\n",
    "This tutorial will give an example application of using deep learning for medical image segmentation. This example will demonstrate how to train a convolutional neural network for the purpose of lung segmentation in CT images. The tutorial will have 3 main parts:\n",
    "1. Loading and preparing data for model training\n",
    "2. Creating, training, and evaluating a deep learning segmentation model\n",
    "3. Making improvements to the model with skip connections"
   ]
  },
  {
   "cell_type": "markdown",
   "metadata": {},
   "source": [
    "## Initial preparation"
   ]
  },
  {
   "cell_type": "markdown",
   "metadata": {},
   "source": [
    "These are some modules that we will definitely need throughout this example."
   ]
  },
  {
   "cell_type": "code",
   "execution_count": 2,
   "metadata": {},
   "outputs": [
    {
     "name": "stderr",
     "output_type": "stream",
     "text": [
      "Using TensorFlow backend.\n"
     ]
    }
   ],
   "source": [
    "import os # operating system operations \n",
    "import numpy as np # number crunching\n",
    "import keras # our deep learning library\n",
    "import matplotlib.pyplot as plt # for plotting our results"
   ]
  },
  {
   "cell_type": "markdown",
   "metadata": {},
   "source": [
    "We will import other necessary modules as we go and need them"
   ]
  },
  {
   "cell_type": "markdown",
   "metadata": {},
   "source": [
    "## Data Preparation\n",
    "All deep learning applications start with getting the data. In this case, the data has already been collected from subjects through CT scans and annotations have been made. \n",
    "Now that all the data is available, we need to load in this data in an organized way and get it ready to feed into a deep learning model for training.\n",
    "This guide assumes that you have the data downloaded and extracted to the sub-directory 'LCTSC' in your working directory"
   ]
  },
  {
   "cell_type": "markdown",
   "metadata": {},
   "source": [
    "### Directory setup"
   ]
  },
  {
   "cell_type": "code",
   "execution_count": 3,
   "metadata": {},
   "outputs": [],
   "source": [
    "# First, let's get all the subject directories. We'll do this by proceeding\n",
    "# through the directory structure and grabbing the ones we want.\n",
    "# We'll use the package glob to make this easy\n",
    "import glob\n",
    "# We know our initial directory: LCTSC. Let's add that to our current\n",
    "# directory to get the full path\n",
    "initial_dir = os.path.join(os.getcwd(),'LCTSC')\n",
    "# Now we'll get all the subject directories using glob\n",
    "subj_dirs = glob.glob(os.path.join(initial_dir,'LCTSC*'))\n",
    "# Now all the subject directories are contained in a list\n",
    "# Let's grab the first one in that list and look for the data\n",
    "cur_dir = subj_dirs[1]\n",
    "# The next directory level just has 1 directory, so we'll grab that\n",
    "cur_dir = glob.glob(os.path.join(cur_dir, \"*\", \"\"))[0]\n",
    "# Now we have the dicom image directory and the label directory\n",
    "# The dicom iamge directory starts with a 0 so we'll find that one first\n",
    "dcm_dir = glob.glob(os.path.join(cur_dir, \"0*\", \"\"))[0]\n",
    "# Let's grab the label directory while we're at it. It starts with a 1\n",
    "lbl_dir = glob.glob(os.path.join(cur_dir, \"1*\", \"\"))[0]\n",
    "# Now, we can get the list of dicom files that we need to \n",
    "# load for this subject\n",
    "# We just have to look for .dcm files in the dcm_dir we found\n",
    "dicom_files = glob.glob(os.path.join(dcm_dir, \"*.dcm\"))\n",
    "# Great. Let's get the label filepath too\n",
    "# It's just contained in a single dicom-rt file in the label directory\n",
    "lbl_file = glob.glob(os.path.join(lbl_dir,\"*.dcm\"))[0]"
   ]
  },
  {
   "cell_type": "markdown",
   "metadata": {},
   "source": [
    "Great! We have all the file paths for this subject. Now we need to actually load in the data"
   ]
  },
  {
   "cell_type": "markdown",
   "metadata": {},
   "source": [
    "### Reading in images"
   ]
  },
  {
   "cell_type": "code",
   "execution_count": 4,
   "metadata": {},
   "outputs": [],
   "source": [
    "# We'll need the PyDicom package to read the dicoms\n",
    "import pydicom\n",
    "# First, we'll load in all the dicom data to a list\n",
    "dicms = [pydicom.read_file(fn) for fn in dicom_files]\n",
    "# These likely won't be in slice order, so we'll need to sort them\n",
    "# using the ImagePositionPatient header tag\n",
    "dicms.sort(key = lambda x: float(x.ImagePositionPatient[2]))\n",
    "# Then, stack all the pixel data together into a 3D array\n",
    "# We'll convert the data from integers to floats while doing this\n",
    "ims = np.stack([dcm.pixel_array.astype(np.float) for dcm in dicms])\n",
    "# The last thing we will do is normalize all the images to [0,1]\n",
    "# There are a variety of normalization methods used, but\n",
    "# this is simple and seems to work just fine\n",
    "for im in ims:\n",
    "    im /= np.max(im)"
   ]
  },
  {
   "cell_type": "markdown",
   "metadata": {},
   "source": [
    "### Reading in segmentation masks\n",
    "We just loaded the input data for our deep learning model. Now we need to create the target masks that we want to train our model to output.\n",
    "\n",
    "We want our output to be in the form of a binary mask- 1's where the pixels are part of the region of interest, and 0's where they are not.\n",
    "Unfortunately, the data we have came from a segmentation program where it was stored as contours- the boundaries of the region of interest.\n",
    "\n",
    "We will have to load in the contour data and convert it into the masks we need.\n",
    "\n",
    "The data we have actually has contours for the heart, lungs, spine, and esophagus. For the purpose of this example, we will focus on the lungs."
   ]
  },
  {
   "cell_type": "code",
   "execution_count": 5,
   "metadata": {},
   "outputs": [],
   "source": [
    "# Let's go back and load the label file we already found\n",
    "label = pydicom.read_file(lbl_file)\n",
    "# First, get the contour data.\n",
    "# We need to figure out which contours are the lungs\n",
    "contour_names = [s.ROIName for s in label.StructureSetROISequence]\n",
    "# Get the right and left lung indices\n",
    "r_ind = contour_names.index('Lung_R')\n",
    "l_ind = contour_names.index('Lung_L')\n",
    "# Extract the corresponding contours and combine\n",
    "contour_right = [s.ContourData for s in \n",
    "                 label.ROIContourSequence[r_ind].ContourSequence]\n",
    "contour_left = [s.ContourData for s in \n",
    "                label.ROIContourSequence[l_ind].ContourSequence]\n",
    "contours = contour_left + contour_right\n",
    "# Next, we need to setup the coordinate system for our images\n",
    "# to make sure our contours are aligned\n",
    "# First, the z position\n",
    "z = [d.ImagePositionPatient[2] for d in dicms]\n",
    "# Now the rows and columns\n",
    "# We need both the position of the origin and the\n",
    "# spacing between voxels\n",
    "pos_r = dicms[0].ImagePositionPatient[1]\n",
    "spacing_r = dicms[0].PixelSpacing[1]\n",
    "pos_c = dicms[0].ImagePositionPatient[0]\n",
    "spacing_c = dicms[0].PixelSpacing[0]\n",
    "# Now we are ready to create our mask\n",
    "# First, preallocate an array of zeros\n",
    "mask = np.zeros_like(ims)    \n",
    "# we are going to need a contour-to-mask converter\n",
    "from skimage.draw import polygon\n",
    "# now loop over the different slices that each contour is on\n",
    "for c in contours:\n",
    "    nodes = np.array(c).reshape((-1, 3))\n",
    "    assert np.amax(np.abs(np.diff(nodes[:, 2]))) == 0\n",
    "    zNew = [round(elem,1) for elem in z]\n",
    "    try:\n",
    "        z_index = z.index(nodes[0,2])\n",
    "    except ValueError:\n",
    "        z_index = zNew.index(nodes[0,2])\n",
    "    r = (nodes[:, 1] - pos_r) / spacing_r\n",
    "    c = (nodes[:, 0] - pos_c) / spacing_c\n",
    "    rr, cc = polygon(r, c)\n",
    "    mask[z_index,rr, cc] = 1"
   ]
  },
  {
   "cell_type": "markdown",
   "metadata": {},
   "source": [
    "### Now we have a mask!"
   ]
  },
  {
   "cell_type": "markdown",
   "metadata": {},
   "source": [
    "We have all the pieces we need:\n",
    "* Inputs\n",
    "* Targets\n",
    "\n",
    "...but just for the first subject out of ten. Now we just to repeat for all of the subjects.\n",
    "\n",
    "Luckily, we have provided a pre-made function that does everything we just did in one move. All we have to do is call this function on each of the directories we already collected"
   ]
  },
  {
   "cell_type": "code",
   "execution_count": 6,
   "metadata": {},
   "outputs": [],
   "source": [
    "# function for loading in input and target data given a directory\n",
    "from Demo_Functions import GetLCTSCdata"
   ]
  },
  {
   "cell_type": "markdown",
   "metadata": {},
   "source": [
    "Now, apply this function to each subject directory"
   ]
  },
  {
   "cell_type": "code",
   "execution_count": 7,
   "metadata": {},
   "outputs": [],
   "source": [
    "data = [GetLCTSCdata(d) for d in subj_dirs]\n",
    "# get all images together as inputs\n",
    "inputs = np.concatenate([d[0] for d in data])\n",
    "# get all masks together as targets\n",
    "targets = np.concatenate([d[1] for d in data])\n",
    "# clear a couple large variables that are no longer needed\n",
    "del data"
   ]
  },
  {
   "cell_type": "markdown",
   "metadata": {},
   "source": [
    "### Final pre-processing"
   ]
  },
  {
   "cell_type": "markdown",
   "metadata": {},
   "source": [
    "Just a couple more pre-processing steps.\n",
    "First, our images are 512x512. That's pretty large for most deep learning applications. It's certainly doable, but for the purpose of this demonstration we will downsample to 256x256 so that the processing is faster.\n",
    "\n",
    "We'll use another scipy function for this"
   ]
  },
  {
   "cell_type": "code",
   "execution_count": 8,
   "metadata": {},
   "outputs": [],
   "source": [
    "from scipy.ndimage import zoom\n",
    "inputs = zoom(inputs, (1,.5,.5))\n",
    "targets = zoom(targets, (1,.5,.5))\n",
    "targets[targets>.1] = 1\n",
    "targets[targets<.1] = 0"
   ]
  },
  {
   "cell_type": "markdown",
   "metadata": {},
   "source": [
    "The final step is to add a singleton dimesion to these arrays. This is necessary because the deep learning model we will create will expect our input to have color channels. Since our images are grayscale, they will just have a single color channel."
   ]
  },
  {
   "cell_type": "code",
   "execution_count": 9,
   "metadata": {},
   "outputs": [],
   "source": [
    "inputs = inputs[...,np.newaxis]\n",
    "targets = targets[...,np.newaxis]"
   ]
  },
  {
   "cell_type": "markdown",
   "metadata": {},
   "source": [
    "## Our data is now ready for training!"
   ]
  },
  {
   "cell_type": "markdown",
   "metadata": {},
   "source": [
    "### Wait."
   ]
  },
  {
   "cell_type": "markdown",
   "metadata": {},
   "source": [
    "We don't just need training data. We need a way of determining if our model is overfitting. This means we need both training data and also another set of data to check the performance on data that is not being trained on. \n",
    "\n",
    "We can split some of our data off and use it for validation during the training process. Let's take 20% of the last slices and use them for this purpose. This will be equal to the last two subjects, so we won't have any overlap of subjects between the different sets"
   ]
  },
  {
   "cell_type": "code",
   "execution_count": 11,
   "metadata": {},
   "outputs": [],
   "source": [
    "# Get the total number of slices\n",
    "num_slices = inputs.shape[0]\n",
    "# Find the cutoff\n",
    "split_ind = np.int(.8*num_slices)\n",
    "# split into training and validation using common nomenclature\n",
    "x_train = inputs[:split_ind]\n",
    "y_train = targets[:split_ind]\n",
    "x_val = inputs[split_ind:]\n",
    "y_val = targets[split_ind:]\n",
    "# finally, shuffle the order of the training data\n",
    "# being sure to keep the inputs and targets in the \n",
    "# same order...\n",
    "sort_r = np.random.permutation(split_ind)\n",
    "np.take(x_train,sort_r,axis=0,out=x_train)\n",
    "np.take(y_train,sort_r,axis=0,out=y_train)\n",
    "# clear up unneeded variables\n",
    "del inputs,targets"
   ]
  },
  {
   "cell_type": "markdown",
   "metadata": {},
   "source": [
    "### NOW, our data is ready!"
   ]
  },
  {
   "cell_type": "markdown",
   "metadata": {},
   "source": [
    "## Building a segmentation network\n",
    "\n",
    "We will build a deep convolutional neural network layer by layer, using Keras' high-level libraries that are relatively easy to work with to create exactly the networkt that we want."
   ]
  },
  {
   "cell_type": "code",
   "execution_count": 12,
   "metadata": {},
   "outputs": [],
   "source": [
    "# We first need an input layer that takes our inputs\n",
    "from keras.layers import Input"
   ]
  },
  {
   "cell_type": "markdown",
   "metadata": {},
   "source": [
    "Our input layer just needs the shape of the input we are providing. The shape dimensions are [sample,row,column,channel].\n",
    "\n",
    "For this 2D network, our samples are different slices. We don't need to provide this dimension to the input layer, since we will feed those samples in as batches during training. But we need the rest of the dimensions"
   ]
  },
  {
   "cell_type": "code",
   "execution_count": 13,
   "metadata": {},
   "outputs": [],
   "source": [
    "inp = Input(shape=x_train.shape[1:])"
   ]
  },
  {
   "cell_type": "markdown",
   "metadata": {},
   "source": [
    "Now, we will add on convolutional layers"
   ]
  },
  {
   "cell_type": "code",
   "execution_count": 14,
   "metadata": {},
   "outputs": [],
   "source": [
    "from keras.layers import Conv2D"
   ]
  },
  {
   "cell_type": "markdown",
   "metadata": {},
   "source": [
    "The syntax for adding layers to our network is:\n",
    "\n",
    "newlayer = LayerType(layer_parameters)(input_layer)\n",
    "\n",
    "   newlayer: the variable that stores the current output of the network.  \n",
    "   LayerType: the type of the new layer we are adding onto the network, in this case Conv2D layers.  \n",
    "   layer_parameters: the inputs we provide to define the new layer. For Conv2D layers, this is given as (number of filters, size of filters, and type of nonlinearity applied to the layer).  \n",
    "   input_layer: the previous layer that our new layer is going to be connected to."
   ]
  },
  {
   "cell_type": "code",
   "execution_count": 34,
   "metadata": {},
   "outputs": [],
   "source": [
    "x = Conv2D(20,(3,3),activation='relu')(inp)\n",
    "# We can reuse the variable 'x' and Keras will remember what the layers\n",
    "# are connected to\n",
    "x = Conv2D(40,(3,3),activation='relu')(x)\n",
    "x = Conv2D(40,(3,3),activation='relu')(x)\n",
    "# now we will use a strided convolution, which downsamples the input\n",
    "# and increases the network's receptive field\n",
    "# We will use zero padding first to make the image shapes\n",
    "# work out correctly\n",
    "from keras.layers import ZeroPadding2D\n",
    "x = ZeroPadding2D(padding=(1,1))(x)\n",
    "x = Conv2D(40,(4,4),strides=(2,2),activation='relu')(x)\n",
    "# repeat that sequence\n",
    "x = Conv2D(60,(3,3),activation='relu')(x)\n",
    "x = Conv2D(80,(3,3),activation='relu')(x)\n",
    "x = Conv2D(80,(3,3),activation='relu')(x)\n",
    "x = ZeroPadding2D(padding=(1,1))(x)\n",
    "x = Conv2D(80,(4,4),strides=(2,2),activation='relu')(x)\n",
    "# now, we will reverse the downsampling using Transposed Convolutions, also\n",
    "# incorrectly but commonly called Deconvolution\n",
    "from keras.layers import Conv2DTranspose\n",
    "x = Conv2DTranspose(60,(4,4),strides=(2,2),activation='relu')(x)\n",
    "x = Conv2DTranspose(40,(3,3),activation='relu')(x)\n",
    "x = Conv2DTranspose(40,(3,3),activation='relu')(x)\n",
    "x = Conv2DTranspose(40,(4,4),strides=(2,2),activation='relu')(x)\n",
    "x = Conv2DTranspose(20,(3,3),activation='relu')(x)\n",
    "x = Conv2DTranspose(20,(3,3),activation='relu')(x)\n",
    "x = Conv2DTranspose(10,(3,3),activation='relu')(x)\n",
    "# finally, our output layer will need to have a single output\n",
    "# channel corresponding to a single segmentation class\n",
    "# We will use sigmoid activation that squashed the output to a probability\n",
    "out = Conv2D(1,(1,1),activation='sigmoid')(x)\n",
    "# Now, we have a graph of layers created but they are not yet a model\n",
    "# Fortunately, Keras makes it easy to make a model out of a graph\n",
    "# just using the input and output layers\n",
    "from keras.models import Model\n",
    "SegModel = Model(inp,out)"
   ]
  },
  {
   "cell_type": "markdown",
   "metadata": {},
   "source": [
    "We have a deep learning model created! Let's take a look to make sure we got the image shapes to work out:"
   ]
  },
  {
   "cell_type": "code",
   "execution_count": 16,
   "metadata": {},
   "outputs": [
    {
     "name": "stdout",
     "output_type": "stream",
     "text": [
      "_________________________________________________________________\n",
      "Layer (type)                 Output Shape              Param #   \n",
      "=================================================================\n",
      "input_1 (InputLayer)         (None, 256, 256, 1)       0         \n",
      "_________________________________________________________________\n",
      "conv2d_1 (Conv2D)            (None, 254, 254, 20)      200       \n",
      "_________________________________________________________________\n",
      "conv2d_2 (Conv2D)            (None, 252, 252, 40)      7240      \n",
      "_________________________________________________________________\n",
      "conv2d_3 (Conv2D)            (None, 250, 250, 40)      14440     \n",
      "_________________________________________________________________\n",
      "zero_padding2d_1 (ZeroPaddin (None, 252, 252, 40)      0         \n",
      "_________________________________________________________________\n",
      "conv2d_4 (Conv2D)            (None, 125, 125, 40)      25640     \n",
      "_________________________________________________________________\n",
      "conv2d_5 (Conv2D)            (None, 123, 123, 60)      21660     \n",
      "_________________________________________________________________\n",
      "conv2d_6 (Conv2D)            (None, 121, 121, 80)      43280     \n",
      "_________________________________________________________________\n",
      "conv2d_7 (Conv2D)            (None, 119, 119, 80)      57680     \n",
      "_________________________________________________________________\n",
      "zero_padding2d_2 (ZeroPaddin (None, 121, 121, 80)      0         \n",
      "_________________________________________________________________\n",
      "conv2d_8 (Conv2D)            (None, 59, 59, 80)        102480    \n",
      "_________________________________________________________________\n",
      "conv2d_transpose_1 (Conv2DTr (None, 120, 120, 60)      76860     \n",
      "_________________________________________________________________\n",
      "conv2d_transpose_2 (Conv2DTr (None, 122, 122, 40)      21640     \n",
      "_________________________________________________________________\n",
      "conv2d_transpose_3 (Conv2DTr (None, 124, 124, 40)      14440     \n",
      "_________________________________________________________________\n",
      "conv2d_transpose_4 (Conv2DTr (None, 250, 250, 40)      25640     \n",
      "_________________________________________________________________\n",
      "conv2d_transpose_5 (Conv2DTr (None, 252, 252, 20)      7220      \n",
      "_________________________________________________________________\n",
      "conv2d_transpose_6 (Conv2DTr (None, 254, 254, 20)      3620      \n",
      "_________________________________________________________________\n",
      "conv2d_transpose_7 (Conv2DTr (None, 256, 256, 10)      1810      \n",
      "_________________________________________________________________\n",
      "conv2d_9 (Conv2D)            (None, 256, 256, 1)       11        \n",
      "=================================================================\n",
      "Total params: 423,861\n",
      "Trainable params: 423,861\n",
      "Non-trainable params: 0\n",
      "_________________________________________________________________\n"
     ]
    }
   ],
   "source": [
    "SegModel.summary()"
   ]
  },
  {
   "cell_type": "markdown",
   "metadata": {},
   "source": [
    "### Compiling the model\n",
    "\n",
    "Compiling the model is the final step before it is ready to train. We need to define our loss function and optimizer that Keras will use to run the training. In this step, Keras will also randomly initialize the weights of our network- so every time the network is trained, it has a different starting point and it is possible to get different results."
   ]
  },
  {
   "cell_type": "markdown",
   "metadata": {},
   "source": [
    "### Loss function\n",
    "The Dice coefficient is not only a good segmentation metric, is also works well as a segmentation loss function since it can be converted to being differentiable without much difficulty. Loss functions in Keras need be defined using tensor functions, using the backend API.\n",
    "\n",
    "Here is what that looks like:"
   ]
  },
  {
   "cell_type": "code",
   "execution_count": 17,
   "metadata": {},
   "outputs": [],
   "source": [
    "import keras.backend as K\n",
    "def dice_coef(y_true, y_pred):\n",
    "    y_true_f = K.flatten(y_true)\n",
    "    y_pred_f = K.flatten(y_pred)\n",
    "    intersection = K.sum(y_true_f * y_pred_f)\n",
    "    dice = (2. * intersection + 1)/(K.sum(y_true_f) + K.sum(y_pred_f) + 1)\n",
    "    # We have calculated dice, but we want to maximize it. \n",
    "    # Keras tries to minimize the loss so we simply return 1- dice\n",
    "    return 1-dice"
   ]
  },
  {
   "cell_type": "markdown",
   "metadata": {},
   "source": [
    "The ADAM optimizer is widely used with good performance on the majority of deep learning applications, so we'll use that. The learning rate will be set to a fairly standard value."
   ]
  },
  {
   "cell_type": "code",
   "execution_count": 35,
   "metadata": {},
   "outputs": [],
   "source": [
    "# SegModel.compile(loss=dice_coef,optimizer=keras.optimizers.Adam(lr=1e-4))\n",
    "sgd = keras.optimizers.SGD(lr=0.1, decay=1e-6,momentum=0.9,nesterov=True)\n",
    "SegModel.compile(loss=dice_coef,optimizer=sgd)"
   ]
  },
  {
   "cell_type": "markdown",
   "metadata": {},
   "source": [
    "### Model Training\n",
    "All that's left to do is to \"fit\" the model to our data! We supply our training data, our batch size and epochs that were defined earlier, we ask Keras to constantly report progress (verbose), and we supply some validation data that will be evaluated at the end of every epoch so we can keep an eye on overfitting"
   ]
  },
  {
   "cell_type": "code",
   "execution_count": null,
   "metadata": {},
   "outputs": [
    {
     "name": "stdout",
     "output_type": "stream",
     "text": [
      "Train on 1154 samples, validate on 289 samples\n",
      "Epoch 1/16\n",
      "1154/1154 [==============================] - 18s 16ms/step - loss: 0.9237 - val_loss: 0.9137\n",
      "Epoch 2/16\n",
      "1154/1154 [==============================] - 17s 15ms/step - loss: 0.9214 - val_loss: 0.9115\n",
      "Epoch 3/16\n",
      "1154/1154 [==============================] - 17s 15ms/step - loss: 0.9209 - val_loss: 0.9112\n",
      "Epoch 4/16\n",
      "1154/1154 [==============================] - 17s 15ms/step - loss: 0.9208 - val_loss: 0.9110\n",
      "Epoch 5/16\n",
      "1154/1154 [==============================] - 17s 15ms/step - loss: 0.9204 - val_loss: 0.9104\n",
      "Epoch 6/16\n",
      "1154/1154 [==============================] - 17s 15ms/step - loss: 0.9036 - val_loss: 0.8973\n",
      "Epoch 7/16\n",
      "1154/1154 [==============================] - 17s 15ms/step - loss: 0.7594 - val_loss: 0.7144\n",
      "Epoch 8/16\n",
      "1154/1154 [==============================] - 16s 14ms/step - loss: 0.4967 - val_loss: 0.5261\n",
      "Epoch 9/16\n",
      "1154/1154 [==============================] - 16s 14ms/step - loss: 0.8817 - val_loss: 0.9120\n",
      "Epoch 10/16\n",
      " 952/1154 [=======================>......] - ETA: 2s - loss: 0.9234"
     ]
    }
   ],
   "source": [
    "SegModel.fit(x_train, y_train,\n",
    "          batch_size=8,\n",
    "          epochs=16,\n",
    "          verbose=1,\n",
    "          shuffle=True,\n",
    "          validation_data=(x_val, y_val))"
   ]
  },
  {
   "cell_type": "markdown",
   "metadata": {},
   "source": [
    "### Evaluate Model\n",
    "After the training is complete, we evaluate the model again on our validation data to see the results."
   ]
  },
  {
   "cell_type": "code",
   "execution_count": 30,
   "metadata": {},
   "outputs": [
    {
     "name": "stdout",
     "output_type": "stream",
     "text": [
      "Final Dice on validation set: 0.0886211857251\n"
     ]
    }
   ],
   "source": [
    "score = SegModel.evaluate(x_val, y_val, verbose=0)\n",
    "print('Final Dice on validation set:', 1-score)"
   ]
  },
  {
   "cell_type": "markdown",
   "metadata": {},
   "source": [
    "We can also look at a sample image to see how the mask looks"
   ]
  },
  {
   "cell_type": "code",
   "execution_count": 33,
   "metadata": {},
   "outputs": [
    {
     "data": {
      "image/png": "[encoded data removed]",
      "text/plain": [
       "<matplotlib.figure.Figure at 0x7f61c93c2a20>"
      ]
     },
     "metadata": {},
     "output_type": "display_data"
    }
   ],
   "source": [
    "# We'll display the prediction and truth next to each other\n",
    "# and see how it faired\n",
    "predictions = SegModel.predict(x_val)\n",
    "# pick a random slice to examine\n",
    "disp_ind = 42\n",
    "plt.figure()\n",
    "disp = np.c_[x_val[disp_ind,...,0],\n",
    "             predictions[disp_ind,...,0],\n",
    "             y_val[disp_ind,...,0]]\n",
    "plt.imshow(disp,cmap='gray')\n",
    "plt.show()"
   ]
  },
  {
   "cell_type": "markdown",
   "metadata": {},
   "source": [
    "Well... it's ok. Not the greatest but it's not terrible either. There are a variety of directions to go from here\n",
    "\n",
    "A deeper net gives more representational power to the model. If the problem is too complex for the current network, making it deeper should improve performance.\n",
    "\n",
    "Some mathematical tricks, like batch normalization and ELU activations can help with the learning process and make the model learn quicker.\n",
    "\n",
    "In segmentation, a particularly useful trick is the use of skip connetions, in which layers from the downsampling part of the network are concatenated with layers on the upsampling part. This both boosts the representational power of the model as well as improves the gradient flow, which also helps the model learn quicker.\n",
    "However, these skip connections take a little bit more effect to implement. Luckily, Keras still makes it pretty easy."
   ]
  },
  {
   "cell_type": "markdown",
   "metadata": {},
   "source": [
    "## Part 3: Functional API\n",
    "So far, we've been making sequential models.\n",
    "Basically, it means that our network\n",
    "has a single, straight path, i.e.\n",
    "\n",
    "![Simple CNN floatchart](https://github.com/jmj23/deep-learning/raw/master/BootCamp/CNN_simple_flowchart.png \"Simple CNN\")\n",
    "\n",
    "Each layer has a single input and output\n",
    "\n",
    "But what if we wanted something more complicated? What if\n",
    "we wanted to implement the skip connections that were just mentioned, for example? Then we would want something like\n",
    "\n",
    "![Connection CNN floatchart](https://github.com/jmj23/deep-learning/raw/master/BootCamp/CNN_connection_flowchart.png \"Connection CNN\")\n",
    "\n",
    "               \n",
    "The extra connection shown is called a skip connection. Skip connections allow the model to consider features that were calculated earlier in the network again, merged with further processed features in practice, this has shown to be hugely helpful in geting precise localization in segmentation outputs.\n",
    "\n",
    "We'll use the same segmentation data so no need to prepare anything new. Let's jump into model creation."
   ]
  },
  {
   "cell_type": "markdown",
   "metadata": {},
   "source": [
    "## Build a segmentation model with skip connections"
   ]
  },
  {
   "cell_type": "code",
   "execution_count": null,
   "metadata": {},
   "outputs": [],
   "source": [
    "# A new layer we will need for this model\n",
    "from keras.layers import concatenate\n",
    "\n",
    "# start like before\n",
    "inp = Input(shape=x_train.shape[1:])\n",
    "# add on a couple convolutional layers\n",
    "# We don't need to keep track of every layer- just\n",
    "# a few of them. We won't keep track of the first one\n",
    "# but we'll keep the second one and name it x1\n",
    "x = Conv2D(20,kernel_size=(3,3),padding='same',activation='relu')(inp)\n",
    "x1 = Conv2D(40, kernel_size=(3,3),padding='same',activation='relu')(x)\n",
    "# Add zero padding like before to keep our layer sizes friendly\n",
    "# and then perform downsampling\n",
    "zp = ZeroPadding2D(padding=(1,1))(x1)\n",
    "x = Conv2D(40, kernel_size=(4,4),\n",
    "                 strides=(2,2),\n",
    "                 activation='relu')(zp)\n",
    "# Now repeat the process, hanging onto the second layer again\n",
    "x = Conv2D(60, kernel_size=(3,3),padding='same',activation='relu')(x)\n",
    "x2 = Conv2D(60, kernel_size=(3,3),padding='same',activation='relu')(x)\n",
    "zp = ZeroPadding2D(padding=(1,1))(x2)\n",
    "x = Conv2D(60, kernel_size=(4,4),\n",
    "                strides=(2,2),\n",
    "                activation='relu')(zp)\n",
    "# We've now done 2 downsampling layers, like before.\n",
    "# Now for the decoding side of the network, we will start\n",
    "# adding skip connections\n",
    "# The first couple of layers are the same as usual.\n",
    "x = Conv2D(60, kernel_size=(3,3),padding='same',activation='relu')(x)\n",
    "x = Conv2D(60, kernel_size=(3,3),padding='same',activation='relu')(x)\n",
    "# Now our upsampling layer\n",
    "x = Conv2DTranspose(60, kernel_size=(4,4),\n",
    "                          strides=(2,2),\n",
    "                          activation='relu')(x)\n",
    "x = Conv2D(60, kernel_size=(3,3),activation='relu')(x)\n",
    "# This layer is now the same size as the second layer we kept.\n",
    "# It can be tough to get layers to match up just right in size\n",
    "# Playing around with kernel size and strides is usually needed\n",
    "# so that concatenation can take place. The x,y spatial dimensions\n",
    "# must be the same. Number of channels doesn't matter.\n",
    "# Luckily, we already did the work for you so these layers can be\n",
    "# concatenated\n",
    "x = concatenate([x,x2])\n",
    "# Now continue to add layers for the decoding side of the\n",
    "# network, treating this merged layer like any other\n",
    "x = Conv2D(40, kernel_size=(3,3),padding='same',activation='relu')(x)\n",
    "x = Conv2D(40, kernel_size=(3,3),padding='same',activation='relu')(x)\n",
    "x = Conv2DTranspose(40, kernel_size=(4,4),\n",
    "                          strides=(2,2),\n",
    "                          activation='relu')(x)\n",
    "x = Conv2D(40, kernel_size=(3,3),activation='relu')(x)\n",
    "x = concatenate([x,x1])\n",
    "x = Conv2D(20, kernel_size=(3,3),padding='same',activation='relu')(x)\n",
    "x = Conv2D(20, kernel_size=(3,3),padding='same',activation='relu')(x)\n",
    "\n",
    "# Final output layer\n",
    "out = Conv2D(1,kernel_size=(1,1),activation='sigmoid')(x)\n",
    "\n",
    "SegModel2 = Model(inp,out)"
   ]
  },
  {
   "cell_type": "markdown",
   "metadata": {},
   "source": [
    "Let's print out a summary of the model to make sure it's what we want.\n",
    "It's a little bit harder to keep track of layers in non-sequential format, but it's still a good way to make sure things look right."
   ]
  },
  {
   "cell_type": "code",
   "execution_count": null,
   "metadata": {},
   "outputs": [],
   "source": [
    "SegModel2.summary()"
   ]
  },
  {
   "cell_type": "markdown",
   "metadata": {},
   "source": [
    "Now, everything else is just like the previous segmentation model. Let's try it out and see how it works!"
   ]
  },
  {
   "cell_type": "code",
   "execution_count": null,
   "metadata": {},
   "outputs": [],
   "source": [
    "SegModel2.compile(loss=dice_coef,optimizer=sgd)\n",
    "SegModel2.fit(x_train, y_train,\n",
    "          batch_size=16,\n",
    "          epochs=16,\n",
    "          verbose=1,\n",
    "          shuffle=True,\n",
    "          validation_data=(x_val, y_val))"
   ]
  },
  {
   "cell_type": "code",
   "execution_count": null,
   "metadata": {},
   "outputs": [],
   "source": [
    "predictions = SegModel2.predict(x_val)\n",
    "plt.figure()\n",
    "disp_ind = 42\n",
    "disp = np.c_[x_val[disp_ind,...,0],\n",
    "             predictions[disp_ind,...,0],\n",
    "             y_val[disp_ind,...,0]]\n",
    "plt.imshow(disp,cmap='gray')"
   ]
  },
  {
   "cell_type": "markdown",
   "metadata": {},
   "source": [
    "Well.... ok. It's about the same. However! In the long run (more than 10 epochs), having these skip connections will definitely make a difference. The difference becomes more pronounced for deeper networks (more layers) with more parameters and larger images.\n",
    "\n",
    "Now that you know the functional API, you can make any graph you like, train it, and use it! Once you've mastered the syntax and conceptual understanding of how to connect layers, you are only limited by your imagination as far as what kind of network you can build.\n",
    "\n",
    "Best of luck, and happy deep learning!"
   ]
  }
 ],
 "metadata": {
  "kernelspec": {
   "display_name": "Python 3",
   "language": "python",
   "name": "python3"
  },
  "language_info": {
   "codemirror_mode": {
    "name": "ipython",
    "version": 3
   },
   "file_extension": ".py",
   "mimetype": "text/x-python",
   "name": "python",
   "nbconvert_exporter": "python",
   "pygments_lexer": "ipython3",
   "version": "3.5.4"
  }
 },
 "nbformat": 4,
 "nbformat_minor": 2
}
