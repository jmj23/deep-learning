{
 "cells": [
  {
   "cell_type": "code",
   "execution_count": 11,
   "metadata": {},
   "outputs": [],
   "source": [
    "# -*- coding: utf-8 -*-\n",
    "\"\"\"\n",
    "Created on Sun Jun  4 20:16:21 2017\n",
    "\n",
    "@author: JMJ136\n",
    "\"\"\"\n",
    "import os\n",
    "import sys\n",
    "sys.path.insert(1,'/home/jmj136/deep-learning/Utils')\n",
    "import numpy as np\n",
    "import ants\n",
    "from keras.models import load_model\n",
    "from HelperFunctions import BlockModel_reg\n",
    "from tqdm import tqdm_notebook as tqdm\n",
    "\n",
    "import GPUtil\n",
    "if not 'DEVICE_ID' in locals():\n",
    "    DEVICE_ID = GPUtil.getFirstAvailable()[0]\n",
    "    print('Using GPU',DEVICE_ID)\n",
    "os.environ[\"CUDA_VISIBLE_DEVICES\"] = str(DEVICE_ID)\n",
    "\n",
    "datapath = 'RegNIFTIs/subj{:03d}_{}.nii'\n",
    "outputpath = 'OutputNIFTIs_xval/subj{:03d}_{}.nii'\n",
    "subj_vec = [1,2,3,4,5,6,7,8,9,10,11,12,13,14,15,16,17,18]\n",
    "model_filepath = 'MuMapModel_Xval_fold_{}_nodual.hdf5'.format(2)\n",
    "\n",
    "eps = 1e-12\n",
    "MS = 3 # multislice number"
   ]
  },
  {
   "cell_type": "code",
   "execution_count": 8,
   "metadata": {},
   "outputs": [],
   "source": [
    "#%% Load model\n",
    "RegModel = BlockModel_reg(np.zeros((1,3,256,256,4)),False,8)\n",
    "RegModel.load_weights(model_filepath)"
   ]
  },
  {
   "cell_type": "code",
   "execution_count": 9,
   "metadata": {},
   "outputs": [],
   "source": [
    "#%% Multislice maker for inputs\n",
    "def ConvertToMultiSlice(array,MS=3):\n",
    "    tshp = array.shape\n",
    "    MSos = np.int((MS-1)/2) #MultiSlice Offset\n",
    "    MSarray = np.zeros((tshp[0],MS,tshp[1],tshp[2],tshp[3]))\n",
    "    for ss in range(MSos,tshp[0]-MSos):\n",
    "        MSarray[ss,0,...] = array[ss-1]\n",
    "        MSarray[ss,1,...] = array[ss]\n",
    "        MSarray[ss,2,...] = array[ss+1]\n",
    "    MSarray[0,0,...] = array[0]\n",
    "    MSarray[0,1,...] = array[0]\n",
    "    MSarray[0,2,...] = array[1]\n",
    "    MSarray[-1,0,...] = array[-2]\n",
    "    MSarray[-1,1,...] = array[-1]\n",
    "    MSarray[-1,2,...] = array[-1]\n",
    "    return MSarray"
   ]
  },
  {
   "cell_type": "code",
   "execution_count": 15,
   "metadata": {},
   "outputs": [
    {
     "data": {
      "application/vnd.jupyter.widget-view+json": {
       "model_id": "a94639c24edf47f6b2f3bb0162a10c92",
       "version_major": 2,
       "version_minor": 0
      },
      "text/plain": [
       "HBox(children=(IntProgress(value=0, max=18), HTML(value='')))"
      ]
     },
     "metadata": {},
     "output_type": "display_data"
    },
    {
     "name": "stdout",
     "output_type": "stream",
     "text": [
      "\n",
      "\r",
      "Processing subject 1\n"
     ]
    },
    {
     "data": {
      "application/vnd.jupyter.widget-view+json": {
       "model_id": "612050254c624186b764e11a3704bfd2",
       "version_major": 2,
       "version_minor": 0
      },
      "text/plain": [
       "HBox(children=(IntProgress(value=0, max=89), HTML(value='')))"
      ]
     },
     "metadata": {},
     "output_type": "display_data"
    },
    {
     "data": {
      "application/vnd.jupyter.widget-view+json": {
       "model_id": "efd6c1a8d9f0413aa49e2c70b6d4b591",
       "version_major": 2,
       "version_minor": 0
      },
      "text/plain": [
       "HBox(children=(IntProgress(value=0, max=89), HTML(value='')))"
      ]
     },
     "metadata": {},
     "output_type": "display_data"
    },
    {
     "name": "stdout",
     "output_type": "stream",
     "text": [
      "\r",
      "Processing subject 2\n"
     ]
    },
    {
     "data": {
      "application/vnd.jupyter.widget-view+json": {
       "model_id": "d1c528b4ab87474997218156bec41360",
       "version_major": 2,
       "version_minor": 0
      },
      "text/plain": [
       "HBox(children=(IntProgress(value=0, max=89), HTML(value='')))"
      ]
     },
     "metadata": {},
     "output_type": "display_data"
    },
    {
     "data": {
      "application/vnd.jupyter.widget-view+json": {
       "model_id": "9282fae314004a49b8579954d82af337",
       "version_major": 2,
       "version_minor": 0
      },
      "text/plain": [
       "HBox(children=(IntProgress(value=0, max=89), HTML(value='')))"
      ]
     },
     "metadata": {},
     "output_type": "display_data"
    },
    {
     "name": "stdout",
     "output_type": "stream",
     "text": [
      "\r",
      "Processing subject 3\n"
     ]
    },
    {
     "data": {
      "application/vnd.jupyter.widget-view+json": {
       "model_id": "6815e4300ce0452290e13b4cc6084e54",
       "version_major": 2,
       "version_minor": 0
      },
      "text/plain": [
       "HBox(children=(IntProgress(value=0, max=89), HTML(value='')))"
      ]
     },
     "metadata": {},
     "output_type": "display_data"
    },
    {
     "data": {
      "application/vnd.jupyter.widget-view+json": {
       "model_id": "59ee836c7db34d3db70bf673c7e9b840",
       "version_major": 2,
       "version_minor": 0
      },
      "text/plain": [
       "HBox(children=(IntProgress(value=0, max=89), HTML(value='')))"
      ]
     },
     "metadata": {},
     "output_type": "display_data"
    },
    {
     "name": "stdout",
     "output_type": "stream",
     "text": [
      "\r",
      "Processing subject 4\n"
     ]
    },
    {
     "data": {
      "application/vnd.jupyter.widget-view+json": {
       "model_id": "694573dbe716410c90fb6d7b59cfad6e",
       "version_major": 2,
       "version_minor": 0
      },
      "text/plain": [
       "HBox(children=(IntProgress(value=0, max=89), HTML(value='')))"
      ]
     },
     "metadata": {},
     "output_type": "display_data"
    },
    {
     "data": {
      "application/vnd.jupyter.widget-view+json": {
       "model_id": "6b06a8e00dd148f1902f05ec3fcb17e0",
       "version_major": 2,
       "version_minor": 0
      },
      "text/plain": [
       "HBox(children=(IntProgress(value=0, max=89), HTML(value='')))"
      ]
     },
     "metadata": {},
     "output_type": "display_data"
    },
    {
     "name": "stdout",
     "output_type": "stream",
     "text": [
      "\r",
      "Processing subject 5\n"
     ]
    },
    {
     "data": {
      "application/vnd.jupyter.widget-view+json": {
       "model_id": "239d8626005c42a9b630d9fda235dbda",
       "version_major": 2,
       "version_minor": 0
      },
      "text/plain": [
       "HBox(children=(IntProgress(value=0, max=89), HTML(value='')))"
      ]
     },
     "metadata": {},
     "output_type": "display_data"
    },
    {
     "data": {
      "application/vnd.jupyter.widget-view+json": {
       "model_id": "4026c92488a74924b9008cfe28e7989f",
       "version_major": 2,
       "version_minor": 0
      },
      "text/plain": [
       "HBox(children=(IntProgress(value=0, max=89), HTML(value='')))"
      ]
     },
     "metadata": {},
     "output_type": "display_data"
    },
    {
     "name": "stdout",
     "output_type": "stream",
     "text": [
      "\r",
      "Processing subject 6\n"
     ]
    },
    {
     "data": {
      "application/vnd.jupyter.widget-view+json": {
       "model_id": "7356d1a1b7664d4cbc579db75fb0d3ff",
       "version_major": 2,
       "version_minor": 0
      },
      "text/plain": [
       "HBox(children=(IntProgress(value=0, max=89), HTML(value='')))"
      ]
     },
     "metadata": {},
     "output_type": "display_data"
    },
    {
     "data": {
      "application/vnd.jupyter.widget-view+json": {
       "model_id": "cfdcdd2e241f4799a5b1f7249b76ee90",
       "version_major": 2,
       "version_minor": 0
      },
      "text/plain": [
       "HBox(children=(IntProgress(value=0, max=89), HTML(value='')))"
      ]
     },
     "metadata": {},
     "output_type": "display_data"
    },
    {
     "name": "stdout",
     "output_type": "stream",
     "text": [
      "\r",
      "Processing subject 7\n"
     ]
    },
    {
     "data": {
      "application/vnd.jupyter.widget-view+json": {
       "model_id": "9abf62f4766845ceb6e48a9fb19a5b9d",
       "version_major": 2,
       "version_minor": 0
      },
      "text/plain": [
       "HBox(children=(IntProgress(value=0, max=89), HTML(value='')))"
      ]
     },
     "metadata": {},
     "output_type": "display_data"
    },
    {
     "data": {
      "application/vnd.jupyter.widget-view+json": {
       "model_id": "1a3f68f4836147dd8a73abd74dc2785a",
       "version_major": 2,
       "version_minor": 0
      },
      "text/plain": [
       "HBox(children=(IntProgress(value=0, max=89), HTML(value='')))"
      ]
     },
     "metadata": {},
     "output_type": "display_data"
    },
    {
     "name": "stdout",
     "output_type": "stream",
     "text": [
      "\r",
      "Processing subject 8\n"
     ]
    },
    {
     "data": {
      "application/vnd.jupyter.widget-view+json": {
       "model_id": "496f74be1acf4a9889a5c9462c1c73cb",
       "version_major": 2,
       "version_minor": 0
      },
      "text/plain": [
       "HBox(children=(IntProgress(value=0, max=89), HTML(value='')))"
      ]
     },
     "metadata": {},
     "output_type": "display_data"
    },
    {
     "data": {
      "application/vnd.jupyter.widget-view+json": {
       "model_id": "1cdbe2ba71c24817926aac6285b22963",
       "version_major": 2,
       "version_minor": 0
      },
      "text/plain": [
       "HBox(children=(IntProgress(value=0, max=89), HTML(value='')))"
      ]
     },
     "metadata": {},
     "output_type": "display_data"
    },
    {
     "name": "stdout",
     "output_type": "stream",
     "text": [
      "\r",
      "Processing subject 9\n"
     ]
    },
    {
     "data": {
      "application/vnd.jupyter.widget-view+json": {
       "model_id": "d3e1c15fc2d84fc89b35cf32d98a620c",
       "version_major": 2,
       "version_minor": 0
      },
      "text/plain": [
       "HBox(children=(IntProgress(value=0, max=89), HTML(value='')))"
      ]
     },
     "metadata": {},
     "output_type": "display_data"
    },
    {
     "data": {
      "application/vnd.jupyter.widget-view+json": {
       "model_id": "3cc112741e0a4929a087be533cdd0ee5",
       "version_major": 2,
       "version_minor": 0
      },
      "text/plain": [
       "HBox(children=(IntProgress(value=0, max=89), HTML(value='')))"
      ]
     },
     "metadata": {},
     "output_type": "display_data"
    },
    {
     "name": "stdout",
     "output_type": "stream",
     "text": [
      "\r",
      "Processing subject 10\n"
     ]
    },
    {
     "data": {
      "application/vnd.jupyter.widget-view+json": {
       "model_id": "3273a107b686434fb92dabce7e1032c5",
       "version_major": 2,
       "version_minor": 0
      },
      "text/plain": [
       "HBox(children=(IntProgress(value=0, max=89), HTML(value='')))"
      ]
     },
     "metadata": {},
     "output_type": "display_data"
    },
    {
     "data": {
      "application/vnd.jupyter.widget-view+json": {
       "model_id": "0ba80c74bc124c89ae523aa1a3942ffc",
       "version_major": 2,
       "version_minor": 0
      },
      "text/plain": [
       "HBox(children=(IntProgress(value=0, max=89), HTML(value='')))"
      ]
     },
     "metadata": {},
     "output_type": "display_data"
    },
    {
     "name": "stdout",
     "output_type": "stream",
     "text": [
      "\r",
      "Processing subject 11\n"
     ]
    },
    {
     "data": {
      "application/vnd.jupyter.widget-view+json": {
       "model_id": "348e0e2484654a51b3fb9bdf57fb01b1",
       "version_major": 2,
       "version_minor": 0
      },
      "text/plain": [
       "HBox(children=(IntProgress(value=0, max=89), HTML(value='')))"
      ]
     },
     "metadata": {},
     "output_type": "display_data"
    },
    {
     "data": {
      "application/vnd.jupyter.widget-view+json": {
       "model_id": "2ec61fd84e6d49ee90a6fdf963f1c2be",
       "version_major": 2,
       "version_minor": 0
      },
      "text/plain": [
       "HBox(children=(IntProgress(value=0, max=89), HTML(value='')))"
      ]
     },
     "metadata": {},
     "output_type": "display_data"
    },
    {
     "name": "stdout",
     "output_type": "stream",
     "text": [
      "\r",
      "Processing subject 12\n"
     ]
    },
    {
     "data": {
      "application/vnd.jupyter.widget-view+json": {
       "model_id": "e9a3992b147a4bc38d09cede3c14c87c",
       "version_major": 2,
       "version_minor": 0
      },
      "text/plain": [
       "HBox(children=(IntProgress(value=0, max=89), HTML(value='')))"
      ]
     },
     "metadata": {},
     "output_type": "display_data"
    },
    {
     "data": {
      "application/vnd.jupyter.widget-view+json": {
       "model_id": "4e347f74391340a59231f5cc87acec0e",
       "version_major": 2,
       "version_minor": 0
      },
      "text/plain": [
       "HBox(children=(IntProgress(value=0, max=89), HTML(value='')))"
      ]
     },
     "metadata": {},
     "output_type": "display_data"
    },
    {
     "name": "stdout",
     "output_type": "stream",
     "text": [
      "\r",
      "Processing subject 13\n"
     ]
    },
    {
     "data": {
      "application/vnd.jupyter.widget-view+json": {
       "model_id": "0751688652ed4f2c84f1ab15115d63f2",
       "version_major": 2,
       "version_minor": 0
      },
      "text/plain": [
       "HBox(children=(IntProgress(value=0, max=89), HTML(value='')))"
      ]
     },
     "metadata": {},
     "output_type": "display_data"
    },
    {
     "data": {
      "application/vnd.jupyter.widget-view+json": {
       "model_id": "c0753c42d6ac4a2f9847fcea52285f4d",
       "version_major": 2,
       "version_minor": 0
      },
      "text/plain": [
       "HBox(children=(IntProgress(value=0, max=89), HTML(value='')))"
      ]
     },
     "metadata": {},
     "output_type": "display_data"
    },
    {
     "name": "stdout",
     "output_type": "stream",
     "text": [
      "\r",
      "Processing subject 14\n"
     ]
    },
    {
     "data": {
      "application/vnd.jupyter.widget-view+json": {
       "model_id": "9ddde1f423eb41dda950fec22a6b9ca0",
       "version_major": 2,
       "version_minor": 0
      },
      "text/plain": [
       "HBox(children=(IntProgress(value=0, max=89), HTML(value='')))"
      ]
     },
     "metadata": {},
     "output_type": "display_data"
    },
    {
     "data": {
      "application/vnd.jupyter.widget-view+json": {
       "model_id": "c56090f97f9545629dd5d4d4edf80013",
       "version_major": 2,
       "version_minor": 0
      },
      "text/plain": [
       "HBox(children=(IntProgress(value=0, max=89), HTML(value='')))"
      ]
     },
     "metadata": {},
     "output_type": "display_data"
    },
    {
     "name": "stdout",
     "output_type": "stream",
     "text": [
      "\r",
      "Processing subject 15\n"
     ]
    },
    {
     "data": {
      "application/vnd.jupyter.widget-view+json": {
       "model_id": "74c287c2bcd7464b8269138eef817eec",
       "version_major": 2,
       "version_minor": 0
      },
      "text/plain": [
       "HBox(children=(IntProgress(value=0, max=89), HTML(value='')))"
      ]
     },
     "metadata": {},
     "output_type": "display_data"
    },
    {
     "data": {
      "application/vnd.jupyter.widget-view+json": {
       "model_id": "35a1b25946c1456ca01a1cc1d5712e7d",
       "version_major": 2,
       "version_minor": 0
      },
      "text/plain": [
       "HBox(children=(IntProgress(value=0, max=89), HTML(value='')))"
      ]
     },
     "metadata": {},
     "output_type": "display_data"
    },
    {
     "name": "stdout",
     "output_type": "stream",
     "text": [
      "\r",
      "Processing subject 16\n"
     ]
    },
    {
     "data": {
      "application/vnd.jupyter.widget-view+json": {
       "model_id": "368f1a995db843dfa76fc3663a66c593",
       "version_major": 2,
       "version_minor": 0
      },
      "text/plain": [
       "HBox(children=(IntProgress(value=0, max=89), HTML(value='')))"
      ]
     },
     "metadata": {},
     "output_type": "display_data"
    },
    {
     "data": {
      "application/vnd.jupyter.widget-view+json": {
       "model_id": "1915eda2def14f26bb071c852609933f",
       "version_major": 2,
       "version_minor": 0
      },
      "text/plain": [
       "HBox(children=(IntProgress(value=0, max=89), HTML(value='')))"
      ]
     },
     "metadata": {},
     "output_type": "display_data"
    },
    {
     "name": "stdout",
     "output_type": "stream",
     "text": [
      "\r",
      "Processing subject 17\n"
     ]
    },
    {
     "data": {
      "application/vnd.jupyter.widget-view+json": {
       "model_id": "1fbd2be2cece4909aea9003c240c9408",
       "version_major": 2,
       "version_minor": 0
      },
      "text/plain": [
       "HBox(children=(IntProgress(value=0, max=89), HTML(value='')))"
      ]
     },
     "metadata": {},
     "output_type": "display_data"
    },
    {
     "data": {
      "application/vnd.jupyter.widget-view+json": {
       "model_id": "19b0130cac174524aaf3cb1355a7dee0",
       "version_major": 2,
       "version_minor": 0
      },
      "text/plain": [
       "HBox(children=(IntProgress(value=0, max=89), HTML(value='')))"
      ]
     },
     "metadata": {},
     "output_type": "display_data"
    },
    {
     "name": "stdout",
     "output_type": "stream",
     "text": [
      "\r",
      "Processing subject 18\n"
     ]
    },
    {
     "data": {
      "application/vnd.jupyter.widget-view+json": {
       "model_id": "ba777b318aad4f10bc38f357fa72941c",
       "version_major": 2,
       "version_minor": 0
      },
      "text/plain": [
       "HBox(children=(IntProgress(value=0, max=89), HTML(value='')))"
      ]
     },
     "metadata": {},
     "output_type": "display_data"
    },
    {
     "data": {
      "application/vnd.jupyter.widget-view+json": {
       "model_id": "cf6d1d9be34e4efda81d7085c000e7de",
       "version_major": 2,
       "version_minor": 0
      },
      "text/plain": [
       "HBox(children=(IntProgress(value=0, max=89), HTML(value='')))"
      ]
     },
     "metadata": {},
     "output_type": "display_data"
    },
    {
     "name": "stdout",
     "output_type": "stream",
     "text": [
      "\n",
      "Done!\n"
     ]
    }
   ],
   "source": [
    "#%% Loop over all subjects\n",
    "t = tqdm(range(len(subj_vec)))\n",
    "t.write('Creating mu-Maps...')\n",
    "for ii in t:\n",
    "    #%% Inputs\n",
    "    subj = subj_vec[ii]\n",
    "    wims = np.rollaxis(ants.image_read(datapath.format(subj,'WATER')).numpy(),2,0)\n",
    "    fims = np.rollaxis(ants.image_read(datapath.format(subj,'FAT')).numpy(),2,0)\n",
    "    inims = np.rollaxis(ants.image_read(datapath.format(subj,'InPhase')).numpy(),2,0)\n",
    "    outims = np.rollaxis(ants.image_read(datapath.format(subj,'OutPhase')).numpy(),2,0)\n",
    "    good_inds = np.loadtxt('RegNIFTIs/subj{:03d}_indices.txt'.format(subj)).astype(np.int)\n",
    "    for im in wims:\n",
    "        im[im<0]=0\n",
    "        im /= np.max(im)\n",
    "    for im in fims:\n",
    "        im[im<0]=0\n",
    "        im /= np.max(im)\n",
    "    for im in inims:\n",
    "        im[im<0]=0\n",
    "        im /= np.max(im)\n",
    "    for im in outims:\n",
    "        im[im<0]=0\n",
    "        im /= (np.max(im)+eps)\n",
    "    inputs = ConvertToMultiSlice(np.stack((wims,fims,inims,outims),axis=3),MS)\n",
    "    \n",
    "    #%% Make predictions on MR data\n",
    "    reg_output = RegModel.predict(inputs,batch_size=8)\n",
    "    # get regression output\n",
    "    # and convert to units of mm\n",
    "    reg_output[reg_output<0] = 0\n",
    "    muMaps = reg_output[...,0]/50\n",
    "    \n",
    "    #%% Write output\n",
    "    # convert to ants images\n",
    "    nac_img = ants.image_read(datapath.format(subj,'NAC'))\n",
    "    muMaps = np.rollaxis(muMaps,0,3)\n",
    "    muMap_img = nac_img.new_image_like(muMaps)\n",
    "    # write to nifti file\n",
    "    ants.image_write(muMap_img,outputpath.format(subj,'regMap'))\n",
    "    \n",
    "print('Done!')"
   ]
  },
  {
   "cell_type": "code",
   "execution_count": 16,
   "metadata": {},
   "outputs": [],
   "source": [
    "from VisTools import multi_slice_viewer0\n",
    "%matplotlib notebook"
   ]
  },
  {
   "cell_type": "code",
   "execution_count": 17,
   "metadata": {},
   "outputs": [
    {
     "data": {
      "application/javascript": [
       "/* Put everything inside the global mpl namespace */\n",
       "window.mpl = {};\n",
       "\n",
       "\n",
       "mpl.get_websocket_type = function() {\n",
       "    if (typeof(WebSocket) !== 'undefined') {\n",
       "        return WebSocket;\n",
       "    } else if (typeof(MozWebSocket) !== 'undefined') {\n",
       "        return MozWebSocket;\n",
       "    } else {\n",
       "        alert('Your browser does not have WebSocket support.' +\n",
       "              'Please try Chrome, Safari or Firefox ≥ 6. ' +\n",
       "              'Firefox 4 and 5 are also supported but you ' +\n",
       "              'have to enable WebSockets in about:config.');\n",
       "    };\n",
       "}\n",
       "\n",
       "mpl.figure = function(figure_id, websocket, ondownload, parent_element) {\n",
       "    this.id = figure_id;\n",
       "\n",
       "    this.ws = websocket;\n",
       "\n",
       "    this.supports_binary = (this.ws.binaryType != undefined);\n",
       "\n",
       "    if (!this.supports_binary) {\n",
       "        var warnings = document.getElementById(\"mpl-warnings\");\n",
       "        if (warnings) {\n",
       "            warnings.style.display = 'block';\n",
       "            warnings.textContent = (\n",
       "                \"This browser does not support binary websocket messages. \" +\n",
       "                    \"Performance may be slow.\");\n",
       "        }\n",
       "    }\n",
       "\n",
       "    this.imageObj = new Image();\n",
       "\n",
       "    this.context = undefined;\n",
       "    this.message = undefined;\n",
       "    this.canvas = undefined;\n",
       "    this.rubberband_canvas = undefined;\n",
       "    this.rubberband_context = undefined;\n",
       "    this.format_dropdown = undefined;\n",
       "\n",
       "    this.image_mode = 'full';\n",
       "\n",
       "    this.root = $('<div/>');\n",
       "    this._root_extra_style(this.root)\n",
       "    this.root.attr('style', 'display: inline-block');\n",
       "\n",
       "    $(parent_element).append(this.root);\n",
       "\n",
       "    this._init_header(this);\n",
       "    this._init_canvas(this);\n",
       "    this._init_toolbar(this);\n",
       "\n",
       "    var fig = this;\n",
       "\n",
       "    this.waiting = false;\n",
       "\n",
       "    this.ws.onopen =  function () {\n",
       "            fig.send_message(\"supports_binary\", {value: fig.supports_binary});\n",
       "            fig.send_message(\"send_image_mode\", {});\n",
       "            if (mpl.ratio != 1) {\n",
       "                fig.send_message(\"set_dpi_ratio\", {'dpi_ratio': mpl.ratio});\n",
       "            }\n",
       "            fig.send_message(\"refresh\", {});\n",
       "        }\n",
       "\n",
       "    this.imageObj.onload = function() {\n",
       "            if (fig.image_mode == 'full') {\n",
       "                // Full images could contain transparency (where diff images\n",
       "                // almost always do), so we need to clear the canvas so that\n",
       "                // there is no ghosting.\n",
       "                fig.context.clearRect(0, 0, fig.canvas.width, fig.canvas.height);\n",
       "            }\n",
       "            fig.context.drawImage(fig.imageObj, 0, 0);\n",
       "        };\n",
       "\n",
       "    this.imageObj.onunload = function() {\n",
       "        fig.ws.close();\n",
       "    }\n",
       "\n",
       "    this.ws.onmessage = this._make_on_message_function(this);\n",
       "\n",
       "    this.ondownload = ondownload;\n",
       "}\n",
       "\n",
       "mpl.figure.prototype._init_header = function() {\n",
       "    var titlebar = $(\n",
       "        '<div class=\"ui-dialog-titlebar ui-widget-header ui-corner-all ' +\n",
       "        'ui-helper-clearfix\"/>');\n",
       "    var titletext = $(\n",
       "        '<div class=\"ui-dialog-title\" style=\"width: 100%; ' +\n",
       "        'text-align: center; padding: 3px;\"/>');\n",
       "    titlebar.append(titletext)\n",
       "    this.root.append(titlebar);\n",
       "    this.header = titletext[0];\n",
       "}\n",
       "\n",
       "\n",
       "\n",
       "mpl.figure.prototype._canvas_extra_style = function(canvas_div) {\n",
       "\n",
       "}\n",
       "\n",
       "\n",
       "mpl.figure.prototype._root_extra_style = function(canvas_div) {\n",
       "\n",
       "}\n",
       "\n",
       "mpl.figure.prototype._init_canvas = function() {\n",
       "    var fig = this;\n",
       "\n",
       "    var canvas_div = $('<div/>');\n",
       "\n",
       "    canvas_div.attr('style', 'position: relative; clear: both; outline: 0');\n",
       "\n",
       "    function canvas_keyboard_event(event) {\n",
       "        return fig.key_event(event, event['data']);\n",
       "    }\n",
       "\n",
       "    canvas_div.keydown('key_press', canvas_keyboard_event);\n",
       "    canvas_div.keyup('key_release', canvas_keyboard_event);\n",
       "    this.canvas_div = canvas_div\n",
       "    this._canvas_extra_style(canvas_div)\n",
       "    this.root.append(canvas_div);\n",
       "\n",
       "    var canvas = $('<canvas/>');\n",
       "    canvas.addClass('mpl-canvas');\n",
       "    canvas.attr('style', \"left: 0; top: 0; z-index: 0; outline: 0\")\n",
       "\n",
       "    this.canvas = canvas[0];\n",
       "    this.context = canvas[0].getContext(\"2d\");\n",
       "\n",
       "    var backingStore = this.context.backingStorePixelRatio ||\n",
       "\tthis.context.webkitBackingStorePixelRatio ||\n",
       "\tthis.context.mozBackingStorePixelRatio ||\n",
       "\tthis.context.msBackingStorePixelRatio ||\n",
       "\tthis.context.oBackingStorePixelRatio ||\n",
       "\tthis.context.backingStorePixelRatio || 1;\n",
       "\n",
       "    mpl.ratio = (window.devicePixelRatio || 1) / backingStore;\n",
       "\n",
       "    var rubberband = $('<canvas/>');\n",
       "    rubberband.attr('style', \"position: absolute; left: 0; top: 0; z-index: 1;\")\n",
       "\n",
       "    var pass_mouse_events = true;\n",
       "\n",
       "    canvas_div.resizable({\n",
       "        start: function(event, ui) {\n",
       "            pass_mouse_events = false;\n",
       "        },\n",
       "        resize: function(event, ui) {\n",
       "            fig.request_resize(ui.size.width, ui.size.height);\n",
       "        },\n",
       "        stop: function(event, ui) {\n",
       "            pass_mouse_events = true;\n",
       "            fig.request_resize(ui.size.width, ui.size.height);\n",
       "        },\n",
       "    });\n",
       "\n",
       "    function mouse_event_fn(event) {\n",
       "        if (pass_mouse_events)\n",
       "            return fig.mouse_event(event, event['data']);\n",
       "    }\n",
       "\n",
       "    rubberband.mousedown('button_press', mouse_event_fn);\n",
       "    rubberband.mouseup('button_release', mouse_event_fn);\n",
       "    // Throttle sequential mouse events to 1 every 20ms.\n",
       "    rubberband.mousemove('motion_notify', mouse_event_fn);\n",
       "\n",
       "    rubberband.mouseenter('figure_enter', mouse_event_fn);\n",
       "    rubberband.mouseleave('figure_leave', mouse_event_fn);\n",
       "\n",
       "    canvas_div.on(\"wheel\", function (event) {\n",
       "        event = event.originalEvent;\n",
       "        event['data'] = 'scroll'\n",
       "        if (event.deltaY < 0) {\n",
       "            event.step = 1;\n",
       "        } else {\n",
       "            event.step = -1;\n",
       "        }\n",
       "        mouse_event_fn(event);\n",
       "    });\n",
       "\n",
       "    canvas_div.append(canvas);\n",
       "    canvas_div.append(rubberband);\n",
       "\n",
       "    this.rubberband = rubberband;\n",
       "    this.rubberband_canvas = rubberband[0];\n",
       "    this.rubberband_context = rubberband[0].getContext(\"2d\");\n",
       "    this.rubberband_context.strokeStyle = \"#000000\";\n",
       "\n",
       "    this._resize_canvas = function(width, height) {\n",
       "        // Keep the size of the canvas, canvas container, and rubber band\n",
       "        // canvas in synch.\n",
       "        canvas_div.css('width', width)\n",
       "        canvas_div.css('height', height)\n",
       "\n",
       "        canvas.attr('width', width * mpl.ratio);\n",
       "        canvas.attr('height', height * mpl.ratio);\n",
       "        canvas.attr('style', 'width: ' + width + 'px; height: ' + height + 'px;');\n",
       "\n",
       "        rubberband.attr('width', width);\n",
       "        rubberband.attr('height', height);\n",
       "    }\n",
       "\n",
       "    // Set the figure to an initial 600x600px, this will subsequently be updated\n",
       "    // upon first draw.\n",
       "    this._resize_canvas(600, 600);\n",
       "\n",
       "    // Disable right mouse context menu.\n",
       "    $(this.rubberband_canvas).bind(\"contextmenu\",function(e){\n",
       "        return false;\n",
       "    });\n",
       "\n",
       "    function set_focus () {\n",
       "        canvas.focus();\n",
       "        canvas_div.focus();\n",
       "    }\n",
       "\n",
       "    window.setTimeout(set_focus, 100);\n",
       "}\n",
       "\n",
       "mpl.figure.prototype._init_toolbar = function() {\n",
       "    var fig = this;\n",
       "\n",
       "    var nav_element = $('<div/>')\n",
       "    nav_element.attr('style', 'width: 100%');\n",
       "    this.root.append(nav_element);\n",
       "\n",
       "    // Define a callback function for later on.\n",
       "    function toolbar_event(event) {\n",
       "        return fig.toolbar_button_onclick(event['data']);\n",
       "    }\n",
       "    function toolbar_mouse_event(event) {\n",
       "        return fig.toolbar_button_onmouseover(event['data']);\n",
       "    }\n",
       "\n",
       "    for(var toolbar_ind in mpl.toolbar_items) {\n",
       "        var name = mpl.toolbar_items[toolbar_ind][0];\n",
       "        var tooltip = mpl.toolbar_items[toolbar_ind][1];\n",
       "        var image = mpl.toolbar_items[toolbar_ind][2];\n",
       "        var method_name = mpl.toolbar_items[toolbar_ind][3];\n",
       "\n",
       "        if (!name) {\n",
       "            // put a spacer in here.\n",
       "            continue;\n",
       "        }\n",
       "        var button = $('<button/>');\n",
       "        button.addClass('ui-button ui-widget ui-state-default ui-corner-all ' +\n",
       "                        'ui-button-icon-only');\n",
       "        button.attr('role', 'button');\n",
       "        button.attr('aria-disabled', 'false');\n",
       "        button.click(method_name, toolbar_event);\n",
       "        button.mouseover(tooltip, toolbar_mouse_event);\n",
       "\n",
       "        var icon_img = $('<span/>');\n",
       "        icon_img.addClass('ui-button-icon-primary ui-icon');\n",
       "        icon_img.addClass(image);\n",
       "        icon_img.addClass('ui-corner-all');\n",
       "\n",
       "        var tooltip_span = $('<span/>');\n",
       "        tooltip_span.addClass('ui-button-text');\n",
       "        tooltip_span.html(tooltip);\n",
       "\n",
       "        button.append(icon_img);\n",
       "        button.append(tooltip_span);\n",
       "\n",
       "        nav_element.append(button);\n",
       "    }\n",
       "\n",
       "    var fmt_picker_span = $('<span/>');\n",
       "\n",
       "    var fmt_picker = $('<select/>');\n",
       "    fmt_picker.addClass('mpl-toolbar-option ui-widget ui-widget-content');\n",
       "    fmt_picker_span.append(fmt_picker);\n",
       "    nav_element.append(fmt_picker_span);\n",
       "    this.format_dropdown = fmt_picker[0];\n",
       "\n",
       "    for (var ind in mpl.extensions) {\n",
       "        var fmt = mpl.extensions[ind];\n",
       "        var option = $(\n",
       "            '<option/>', {selected: fmt === mpl.default_extension}).html(fmt);\n",
       "        fmt_picker.append(option)\n",
       "    }\n",
       "\n",
       "    // Add hover states to the ui-buttons\n",
       "    $( \".ui-button\" ).hover(\n",
       "        function() { $(this).addClass(\"ui-state-hover\");},\n",
       "        function() { $(this).removeClass(\"ui-state-hover\");}\n",
       "    );\n",
       "\n",
       "    var status_bar = $('<span class=\"mpl-message\"/>');\n",
       "    nav_element.append(status_bar);\n",
       "    this.message = status_bar[0];\n",
       "}\n",
       "\n",
       "mpl.figure.prototype.request_resize = function(x_pixels, y_pixels) {\n",
       "    // Request matplotlib to resize the figure. Matplotlib will then trigger a resize in the client,\n",
       "    // which will in turn request a refresh of the image.\n",
       "    this.send_message('resize', {'width': x_pixels, 'height': y_pixels});\n",
       "}\n",
       "\n",
       "mpl.figure.prototype.send_message = function(type, properties) {\n",
       "    properties['type'] = type;\n",
       "    properties['figure_id'] = this.id;\n",
       "    this.ws.send(JSON.stringify(properties));\n",
       "}\n",
       "\n",
       "mpl.figure.prototype.send_draw_message = function() {\n",
       "    if (!this.waiting) {\n",
       "        this.waiting = true;\n",
       "        this.ws.send(JSON.stringify({type: \"draw\", figure_id: this.id}));\n",
       "    }\n",
       "}\n",
       "\n",
       "\n",
       "mpl.figure.prototype.handle_save = function(fig, msg) {\n",
       "    var format_dropdown = fig.format_dropdown;\n",
       "    var format = format_dropdown.options[format_dropdown.selectedIndex].value;\n",
       "    fig.ondownload(fig, format);\n",
       "}\n",
       "\n",
       "\n",
       "mpl.figure.prototype.handle_resize = function(fig, msg) {\n",
       "    var size = msg['size'];\n",
       "    if (size[0] != fig.canvas.width || size[1] != fig.canvas.height) {\n",
       "        fig._resize_canvas(size[0], size[1]);\n",
       "        fig.send_message(\"refresh\", {});\n",
       "    };\n",
       "}\n",
       "\n",
       "mpl.figure.prototype.handle_rubberband = function(fig, msg) {\n",
       "    var x0 = msg['x0'] / mpl.ratio;\n",
       "    var y0 = (fig.canvas.height - msg['y0']) / mpl.ratio;\n",
       "    var x1 = msg['x1'] / mpl.ratio;\n",
       "    var y1 = (fig.canvas.height - msg['y1']) / mpl.ratio;\n",
       "    x0 = Math.floor(x0) + 0.5;\n",
       "    y0 = Math.floor(y0) + 0.5;\n",
       "    x1 = Math.floor(x1) + 0.5;\n",
       "    y1 = Math.floor(y1) + 0.5;\n",
       "    var min_x = Math.min(x0, x1);\n",
       "    var min_y = Math.min(y0, y1);\n",
       "    var width = Math.abs(x1 - x0);\n",
       "    var height = Math.abs(y1 - y0);\n",
       "\n",
       "    fig.rubberband_context.clearRect(\n",
       "        0, 0, fig.canvas.width, fig.canvas.height);\n",
       "\n",
       "    fig.rubberband_context.strokeRect(min_x, min_y, width, height);\n",
       "}\n",
       "\n",
       "mpl.figure.prototype.handle_figure_label = function(fig, msg) {\n",
       "    // Updates the figure title.\n",
       "    fig.header.textContent = msg['label'];\n",
       "}\n",
       "\n",
       "mpl.figure.prototype.handle_cursor = function(fig, msg) {\n",
       "    var cursor = msg['cursor'];\n",
       "    switch(cursor)\n",
       "    {\n",
       "    case 0:\n",
       "        cursor = 'pointer';\n",
       "        break;\n",
       "    case 1:\n",
       "        cursor = 'default';\n",
       "        break;\n",
       "    case 2:\n",
       "        cursor = 'crosshair';\n",
       "        break;\n",
       "    case 3:\n",
       "        cursor = 'move';\n",
       "        break;\n",
       "    }\n",
       "    fig.rubberband_canvas.style.cursor = cursor;\n",
       "}\n",
       "\n",
       "mpl.figure.prototype.handle_message = function(fig, msg) {\n",
       "    fig.message.textContent = msg['message'];\n",
       "}\n",
       "\n",
       "mpl.figure.prototype.handle_draw = function(fig, msg) {\n",
       "    // Request the server to send over a new figure.\n",
       "    fig.send_draw_message();\n",
       "}\n",
       "\n",
       "mpl.figure.prototype.handle_image_mode = function(fig, msg) {\n",
       "    fig.image_mode = msg['mode'];\n",
       "}\n",
       "\n",
       "mpl.figure.prototype.updated_canvas_event = function() {\n",
       "    // Called whenever the canvas gets updated.\n",
       "    this.send_message(\"ack\", {});\n",
       "}\n",
       "\n",
       "// A function to construct a web socket function for onmessage handling.\n",
       "// Called in the figure constructor.\n",
       "mpl.figure.prototype._make_on_message_function = function(fig) {\n",
       "    return function socket_on_message(evt) {\n",
       "        if (evt.data instanceof Blob) {\n",
       "            /* FIXME: We get \"Resource interpreted as Image but\n",
       "             * transferred with MIME type text/plain:\" errors on\n",
       "             * Chrome.  But how to set the MIME type?  It doesn't seem\n",
       "             * to be part of the websocket stream */\n",
       "            evt.data.type = \"image/png\";\n",
       "\n",
       "            /* Free the memory for the previous frames */\n",
       "            if (fig.imageObj.src) {\n",
       "                (window.URL || window.webkitURL).revokeObjectURL(\n",
       "                    fig.imageObj.src);\n",
       "            }\n",
       "\n",
       "            fig.imageObj.src = (window.URL || window.webkitURL).createObjectURL(\n",
       "                evt.data);\n",
       "            fig.updated_canvas_event();\n",
       "            fig.waiting = false;\n",
       "            return;\n",
       "        }\n",
       "        else if (typeof evt.data === 'string' && evt.data.slice(0, 21) == \"data:image/png;base64\") {\n",
       "            fig.imageObj.src = evt.data;\n",
       "            fig.updated_canvas_event();\n",
       "            fig.waiting = false;\n",
       "            return;\n",
       "        }\n",
       "\n",
       "        var msg = JSON.parse(evt.data);\n",
       "        var msg_type = msg['type'];\n",
       "\n",
       "        // Call the  \"handle_{type}\" callback, which takes\n",
       "        // the figure and JSON message as its only arguments.\n",
       "        try {\n",
       "            var callback = fig[\"handle_\" + msg_type];\n",
       "        } catch (e) {\n",
       "            console.log(\"No handler for the '\" + msg_type + \"' message type: \", msg);\n",
       "            return;\n",
       "        }\n",
       "\n",
       "        if (callback) {\n",
       "            try {\n",
       "                // console.log(\"Handling '\" + msg_type + \"' message: \", msg);\n",
       "                callback(fig, msg);\n",
       "            } catch (e) {\n",
       "                console.log(\"Exception inside the 'handler_\" + msg_type + \"' callback:\", e, e.stack, msg);\n",
       "            }\n",
       "        }\n",
       "    };\n",
       "}\n",
       "\n",
       "// from http://stackoverflow.com/questions/1114465/getting-mouse-location-in-canvas\n",
       "mpl.findpos = function(e) {\n",
       "    //this section is from http://www.quirksmode.org/js/events_properties.html\n",
       "    var targ;\n",
       "    if (!e)\n",
       "        e = window.event;\n",
       "    if (e.target)\n",
       "        targ = e.target;\n",
       "    else if (e.srcElement)\n",
       "        targ = e.srcElement;\n",
       "    if (targ.nodeType == 3) // defeat Safari bug\n",
       "        targ = targ.parentNode;\n",
       "\n",
       "    // jQuery normalizes the pageX and pageY\n",
       "    // pageX,Y are the mouse positions relative to the document\n",
       "    // offset() returns the position of the element relative to the document\n",
       "    var x = e.pageX - $(targ).offset().left;\n",
       "    var y = e.pageY - $(targ).offset().top;\n",
       "\n",
       "    return {\"x\": x, \"y\": y};\n",
       "};\n",
       "\n",
       "/*\n",
       " * return a copy of an object with only non-object keys\n",
       " * we need this to avoid circular references\n",
       " * http://stackoverflow.com/a/24161582/3208463\n",
       " */\n",
       "function simpleKeys (original) {\n",
       "  return Object.keys(original).reduce(function (obj, key) {\n",
       "    if (typeof original[key] !== 'object')\n",
       "        obj[key] = original[key]\n",
       "    return obj;\n",
       "  }, {});\n",
       "}\n",
       "\n",
       "mpl.figure.prototype.mouse_event = function(event, name) {\n",
       "    var canvas_pos = mpl.findpos(event)\n",
       "\n",
       "    if (name === 'button_press')\n",
       "    {\n",
       "        this.canvas.focus();\n",
       "        this.canvas_div.focus();\n",
       "    }\n",
       "\n",
       "    var x = canvas_pos.x * mpl.ratio;\n",
       "    var y = canvas_pos.y * mpl.ratio;\n",
       "\n",
       "    this.send_message(name, {x: x, y: y, button: event.button,\n",
       "                             step: event.step,\n",
       "                             guiEvent: simpleKeys(event)});\n",
       "\n",
       "    /* This prevents the web browser from automatically changing to\n",
       "     * the text insertion cursor when the button is pressed.  We want\n",
       "     * to control all of the cursor setting manually through the\n",
       "     * 'cursor' event from matplotlib */\n",
       "    event.preventDefault();\n",
       "    return false;\n",
       "}\n",
       "\n",
       "mpl.figure.prototype._key_event_extra = function(event, name) {\n",
       "    // Handle any extra behaviour associated with a key event\n",
       "}\n",
       "\n",
       "mpl.figure.prototype.key_event = function(event, name) {\n",
       "\n",
       "    // Prevent repeat events\n",
       "    if (name == 'key_press')\n",
       "    {\n",
       "        if (event.which === this._key)\n",
       "            return;\n",
       "        else\n",
       "            this._key = event.which;\n",
       "    }\n",
       "    if (name == 'key_release')\n",
       "        this._key = null;\n",
       "\n",
       "    var value = '';\n",
       "    if (event.ctrlKey && event.which != 17)\n",
       "        value += \"ctrl+\";\n",
       "    if (event.altKey && event.which != 18)\n",
       "        value += \"alt+\";\n",
       "    if (event.shiftKey && event.which != 16)\n",
       "        value += \"shift+\";\n",
       "\n",
       "    value += 'k';\n",
       "    value += event.which.toString();\n",
       "\n",
       "    this._key_event_extra(event, name);\n",
       "\n",
       "    this.send_message(name, {key: value,\n",
       "                             guiEvent: simpleKeys(event)});\n",
       "    return false;\n",
       "}\n",
       "\n",
       "mpl.figure.prototype.toolbar_button_onclick = function(name) {\n",
       "    if (name == 'download') {\n",
       "        this.handle_save(this, null);\n",
       "    } else {\n",
       "        this.send_message(\"toolbar_button\", {name: name});\n",
       "    }\n",
       "};\n",
       "\n",
       "mpl.figure.prototype.toolbar_button_onmouseover = function(tooltip) {\n",
       "    this.message.textContent = tooltip;\n",
       "};\n",
       "mpl.toolbar_items = [[\"Home\", \"Reset original view\", \"fa fa-home icon-home\", \"home\"], [\"Back\", \"Back to  previous view\", \"fa fa-arrow-left icon-arrow-left\", \"back\"], [\"Forward\", \"Forward to next view\", \"fa fa-arrow-right icon-arrow-right\", \"forward\"], [\"\", \"\", \"\", \"\"], [\"Pan\", \"Pan axes with left mouse, zoom with right\", \"fa fa-arrows icon-move\", \"pan\"], [\"Zoom\", \"Zoom to rectangle\", \"fa fa-square-o icon-check-empty\", \"zoom\"], [\"\", \"\", \"\", \"\"], [\"Download\", \"Download plot\", \"fa fa-floppy-o icon-save\", \"download\"]];\n",
       "\n",
       "mpl.extensions = [\"eps\", \"jpeg\", \"pdf\", \"png\", \"ps\", \"raw\", \"svg\", \"tif\"];\n",
       "\n",
       "mpl.default_extension = \"png\";var comm_websocket_adapter = function(comm) {\n",
       "    // Create a \"websocket\"-like object which calls the given IPython comm\n",
       "    // object with the appropriate methods. Currently this is a non binary\n",
       "    // socket, so there is still some room for performance tuning.\n",
       "    var ws = {};\n",
       "\n",
       "    ws.close = function() {\n",
       "        comm.close()\n",
       "    };\n",
       "    ws.send = function(m) {\n",
       "        //console.log('sending', m);\n",
       "        comm.send(m);\n",
       "    };\n",
       "    // Register the callback with on_msg.\n",
       "    comm.on_msg(function(msg) {\n",
       "        //console.log('receiving', msg['content']['data'], msg);\n",
       "        // Pass the mpl event to the overriden (by mpl) onmessage function.\n",
       "        ws.onmessage(msg['content']['data'])\n",
       "    });\n",
       "    return ws;\n",
       "}\n",
       "\n",
       "mpl.mpl_figure_comm = function(comm, msg) {\n",
       "    // This is the function which gets called when the mpl process\n",
       "    // starts-up an IPython Comm through the \"matplotlib\" channel.\n",
       "\n",
       "    var id = msg.content.data.id;\n",
       "    // Get hold of the div created by the display call when the Comm\n",
       "    // socket was opened in Python.\n",
       "    var element = $(\"#\" + id);\n",
       "    var ws_proxy = comm_websocket_adapter(comm)\n",
       "\n",
       "    function ondownload(figure, format) {\n",
       "        window.open(figure.imageObj.src);\n",
       "    }\n",
       "\n",
       "    var fig = new mpl.figure(id, ws_proxy,\n",
       "                           ondownload,\n",
       "                           element.get(0));\n",
       "\n",
       "    // Call onopen now - mpl needs it, as it is assuming we've passed it a real\n",
       "    // web socket which is closed, not our websocket->open comm proxy.\n",
       "    ws_proxy.onopen();\n",
       "\n",
       "    fig.parent_element = element.get(0);\n",
       "    fig.cell_info = mpl.find_output_cell(\"<div id='\" + id + \"'></div>\");\n",
       "    if (!fig.cell_info) {\n",
       "        console.error(\"Failed to find cell for figure\", id, fig);\n",
       "        return;\n",
       "    }\n",
       "\n",
       "    var output_index = fig.cell_info[2]\n",
       "    var cell = fig.cell_info[0];\n",
       "\n",
       "};\n",
       "\n",
       "mpl.figure.prototype.handle_close = function(fig, msg) {\n",
       "    var width = fig.canvas.width/mpl.ratio\n",
       "    fig.root.unbind('remove')\n",
       "\n",
       "    // Update the output cell to use the data from the current canvas.\n",
       "    fig.push_to_output();\n",
       "    var dataURL = fig.canvas.toDataURL();\n",
       "    // Re-enable the keyboard manager in IPython - without this line, in FF,\n",
       "    // the notebook keyboard shortcuts fail.\n",
       "    IPython.keyboard_manager.enable()\n",
       "    $(fig.parent_element).html('<img src=\"' + dataURL + '\" width=\"' + width + '\">');\n",
       "    fig.close_ws(fig, msg);\n",
       "}\n",
       "\n",
       "mpl.figure.prototype.close_ws = function(fig, msg){\n",
       "    fig.send_message('closing', msg);\n",
       "    // fig.ws.close()\n",
       "}\n",
       "\n",
       "mpl.figure.prototype.push_to_output = function(remove_interactive) {\n",
       "    // Turn the data on the canvas into data in the output cell.\n",
       "    var width = this.canvas.width/mpl.ratio\n",
       "    var dataURL = this.canvas.toDataURL();\n",
       "    this.cell_info[1]['text/html'] = '<img src=\"' + dataURL + '\" width=\"' + width + '\">';\n",
       "}\n",
       "\n",
       "mpl.figure.prototype.updated_canvas_event = function() {\n",
       "    // Tell IPython that the notebook contents must change.\n",
       "    IPython.notebook.set_dirty(true);\n",
       "    this.send_message(\"ack\", {});\n",
       "    var fig = this;\n",
       "    // Wait a second, then push the new image to the DOM so\n",
       "    // that it is saved nicely (might be nice to debounce this).\n",
       "    setTimeout(function () { fig.push_to_output() }, 1000);\n",
       "}\n",
       "\n",
       "mpl.figure.prototype._init_toolbar = function() {\n",
       "    var fig = this;\n",
       "\n",
       "    var nav_element = $('<div/>')\n",
       "    nav_element.attr('style', 'width: 100%');\n",
       "    this.root.append(nav_element);\n",
       "\n",
       "    // Define a callback function for later on.\n",
       "    function toolbar_event(event) {\n",
       "        return fig.toolbar_button_onclick(event['data']);\n",
       "    }\n",
       "    function toolbar_mouse_event(event) {\n",
       "        return fig.toolbar_button_onmouseover(event['data']);\n",
       "    }\n",
       "\n",
       "    for(var toolbar_ind in mpl.toolbar_items){\n",
       "        var name = mpl.toolbar_items[toolbar_ind][0];\n",
       "        var tooltip = mpl.toolbar_items[toolbar_ind][1];\n",
       "        var image = mpl.toolbar_items[toolbar_ind][2];\n",
       "        var method_name = mpl.toolbar_items[toolbar_ind][3];\n",
       "\n",
       "        if (!name) { continue; };\n",
       "\n",
       "        var button = $('<button class=\"btn btn-default\" href=\"#\" title=\"' + name + '\"><i class=\"fa ' + image + ' fa-lg\"></i></button>');\n",
       "        button.click(method_name, toolbar_event);\n",
       "        button.mouseover(tooltip, toolbar_mouse_event);\n",
       "        nav_element.append(button);\n",
       "    }\n",
       "\n",
       "    // Add the status bar.\n",
       "    var status_bar = $('<span class=\"mpl-message\" style=\"text-align:right; float: right;\"/>');\n",
       "    nav_element.append(status_bar);\n",
       "    this.message = status_bar[0];\n",
       "\n",
       "    // Add the close button to the window.\n",
       "    var buttongrp = $('<div class=\"btn-group inline pull-right\"></div>');\n",
       "    var button = $('<button class=\"btn btn-mini btn-primary\" href=\"#\" title=\"Stop Interaction\"><i class=\"fa fa-power-off icon-remove icon-large\"></i></button>');\n",
       "    button.click(function (evt) { fig.handle_close(fig, {}); } );\n",
       "    button.mouseover('Stop Interaction', toolbar_mouse_event);\n",
       "    buttongrp.append(button);\n",
       "    var titlebar = this.root.find($('.ui-dialog-titlebar'));\n",
       "    titlebar.prepend(buttongrp);\n",
       "}\n",
       "\n",
       "mpl.figure.prototype._root_extra_style = function(el){\n",
       "    var fig = this\n",
       "    el.on(\"remove\", function(){\n",
       "\tfig.close_ws(fig, {});\n",
       "    });\n",
       "}\n",
       "\n",
       "mpl.figure.prototype._canvas_extra_style = function(el){\n",
       "    // this is important to make the div 'focusable\n",
       "    el.attr('tabindex', 0)\n",
       "    // reach out to IPython and tell the keyboard manager to turn it's self\n",
       "    // off when our div gets focus\n",
       "\n",
       "    // location in version 3\n",
       "    if (IPython.notebook.keyboard_manager) {\n",
       "        IPython.notebook.keyboard_manager.register_events(el);\n",
       "    }\n",
       "    else {\n",
       "        // location in version 2\n",
       "        IPython.keyboard_manager.register_events(el);\n",
       "    }\n",
       "\n",
       "}\n",
       "\n",
       "mpl.figure.prototype._key_event_extra = function(event, name) {\n",
       "    var manager = IPython.notebook.keyboard_manager;\n",
       "    if (!manager)\n",
       "        manager = IPython.keyboard_manager;\n",
       "\n",
       "    // Check for shift+enter\n",
       "    if (event.shiftKey && event.which == 13) {\n",
       "        this.canvas_div.blur();\n",
       "        event.shiftKey = false;\n",
       "        // Send a \"J\" for go to next cell\n",
       "        event.which = 74;\n",
       "        event.keyCode = 74;\n",
       "        manager.command_mode();\n",
       "        manager.handle_keydown(event);\n",
       "    }\n",
       "}\n",
       "\n",
       "mpl.figure.prototype.handle_save = function(fig, msg) {\n",
       "    fig.ondownload(fig, null);\n",
       "}\n",
       "\n",
       "\n",
       "mpl.find_output_cell = function(html_output) {\n",
       "    // Return the cell and output element which can be found *uniquely* in the notebook.\n",
       "    // Note - this is a bit hacky, but it is done because the \"notebook_saving.Notebook\"\n",
       "    // IPython event is triggered only after the cells have been serialised, which for\n",
       "    // our purposes (turning an active figure into a static one), is too late.\n",
       "    var cells = IPython.notebook.get_cells();\n",
       "    var ncells = cells.length;\n",
       "    for (var i=0; i<ncells; i++) {\n",
       "        var cell = cells[i];\n",
       "        if (cell.cell_type === 'code'){\n",
       "            for (var j=0; j<cell.output_area.outputs.length; j++) {\n",
       "                var data = cell.output_area.outputs[j];\n",
       "                if (data.data) {\n",
       "                    // IPython >= 3 moved mimebundle to data attribute of output\n",
       "                    data = data.data;\n",
       "                }\n",
       "                if (data['text/html'] == html_output) {\n",
       "                    return [cell, data, j];\n",
       "                }\n",
       "            }\n",
       "        }\n",
       "    }\n",
       "}\n",
       "\n",
       "// Register the function which deals with the matplotlib target/channel.\n",
       "// The kernel may be null if the page has been refreshed.\n",
       "if (IPython.notebook.kernel != null) {\n",
       "    IPython.notebook.kernel.comm_manager.register_target('matplotlib', mpl.mpl_figure_comm);\n",
       "}\n"
      ],
      "text/plain": [
       "<IPython.core.display.Javascript object>"
      ]
     },
     "metadata": {},
     "output_type": "display_data"
    },
    {
     "data": {
      "text/html": [
       "<img src=\"data:image/png;base64,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\" width=\"640\">"
      ],
      "text/plain": [
       "<IPython.core.display.HTML object>"
      ]
     },
     "metadata": {},
     "output_type": "display_data"
    }
   ],
   "source": [
    "multi_slice_viewer0(reg_output[...,0])"
   ]
  }
 ],
 "metadata": {
  "kernelspec": {
   "display_name": "Python 3",
   "language": "python",
   "name": "python3"
  },
  "language_info": {
   "codemirror_mode": {
    "name": "ipython",
    "version": 3
   },
   "file_extension": ".py",
   "mimetype": "text/x-python",
   "name": "python",
   "nbconvert_exporter": "python",
   "pygments_lexer": "ipython3",
   "version": "3.5.4"
  }
 },
 "nbformat": 4,
 "nbformat_minor": 2
}
