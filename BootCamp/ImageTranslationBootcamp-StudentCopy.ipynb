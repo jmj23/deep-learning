{
 "cells": [
  {
   "cell_type": "markdown",
   "metadata": {},
   "source": [
    "# Introduction\n",
    "This tutorial will give an example application of using deep learning for medical image-to-image translation. This example will demonstrate how to transform a segmentation CNN into a regression CNN for the purpose of predicting T2 images from T1 images. \n",
    "\n",
    "Keep an eye out for questions through this demo to test your new DL knowledge and critical thinking. There are answers at the end of the document."
   ]
  },
  {
   "cell_type": "markdown",
   "metadata": {},
   "source": [
    "### Initial preparation"
   ]
  },
  {
   "cell_type": "markdown",
   "metadata": {},
   "source": [
    "Import necessary modules"
   ]
  },
  {
   "cell_type": "code",
   "execution_count": null,
   "metadata": {
    "scrolled": false
   },
   "outputs": [],
   "source": [
    "import os # operating system operations \n",
    "import numpy as np # number crunching\n",
    "np.random.seed(1) # set seed for random number generator\n",
    "import keras # our deep learning library\n",
    "import matplotlib.pyplot as plt # for plotting our results\n",
    "# set plotting to be in-line and interactive\n",
    "%matplotlib notebook"
   ]
  },
  {
   "cell_type": "markdown",
   "metadata": {},
   "source": [
    "We will import other necessary modules as we go and need them"
   ]
  },
  {
   "cell_type": "markdown",
   "metadata": {},
   "source": [
    "# Data Preparation\n",
    "All deep learning applications start with getting the data.\n",
    "\n",
    "We made this one easy for you by compiling the data into an HDF5 file. We will be using MRI T1 images of the brain as inputs, and we wish to convert them to T2 images. All we have to do is load all of the inputs and targets and it will be ready to go.\n",
    "\n",
    "First we import the python hdf5 library, h5py. Then we load all the individual datasets in and convert them to Numpy arrays. This will take a few seconds."
   ]
  },
  {
   "cell_type": "code",
   "execution_count": null,
   "metadata": {
    "collapsed": true
   },
   "outputs": [],
   "source": [
    "# load training, validation, and testing data\n",
    "# adding a singleton dimension\n",
    "import h5py\n",
    "with h5py.File('ImageTranslationData.hdf5','r') as hf:\n",
    "    trainX = np.array(hf.get(\"trainX\"))[...,np.newaxis]\n",
    "    trainY = np.array(hf.get(\"trainY\"))[...,np.newaxis]\n",
    "    valX = np.array(hf.get(\"valX\"))[...,np.newaxis]\n",
    "    valY = np.array(hf.get(\"valY\"))[...,np.newaxis]\n",
    "    testX = np.array(hf.get(\"testX\"))[...,np.newaxis]\n",
    "    testY = np.array(hf.get(\"testY\"))[...,np.newaxis]"
   ]
  },
  {
   "cell_type": "markdown",
   "metadata": {},
   "source": [
    "##### Question 1: What is the purpose of the training, validation, and testing datasets?"
   ]
  },
  {
   "cell_type": "markdown",
   "metadata": {},
   "source": [
    "This time, we will use an ImageDataGenerator so we can augment data on the fly. Before, we used this on a directory to make loading in image data from directories a breeze. However, that only works for classification schemes. For this image to image translation problem, we first had to load all the data into an array. Already did it!\n",
    "\n",
    "Next, we have to setup two generators, one for the input images and one for the target images. Then we will synchronize the generators so they are always creating augmented inputs and targets that match up for training.\n",
    "\n",
    "We have already set these up for you, but it is helpful to look through all the different parameters that are set in the augmentation."
   ]
  },
  {
   "cell_type": "code",
   "execution_count": null,
   "metadata": {
    "collapsed": true
   },
   "outputs": [],
   "source": [
    "from keras.preprocessing.image import ImageDataGenerator \n",
    "# setup image data generator\n",
    "datagen1 = ImageDataGenerator(\n",
    "    rotation_range=10,\n",
    "    shear_range=0.2,\n",
    "    width_shift_range=0.1,\n",
    "    height_shift_range=0.1,\n",
    "    zoom_range=0.2,\n",
    "    horizontal_flip=True,\n",
    "    vertical_flip=True,\n",
    "    fill_mode='nearest')\n",
    "datagen2 = ImageDataGenerator(\n",
    "    rotation_range=10,\n",
    "    shear_range=0.2,\n",
    "    width_shift_range=0.1,\n",
    "    height_shift_range=0.1,\n",
    "    zoom_range=0.2,\n",
    "    horizontal_flip=True,\n",
    "    vertical_flip=True,\n",
    "    fill_mode='nearest')\n",
    "\n",
    "# Provide the same seed and keyword arguments to the fit and flow\n",
    "# in order to synchronize the inputs and targets\n",
    "seed = 1\n",
    "datagen1.fit(trainX, seed=seed)\n",
    "datagen2.fit(trainY, seed=seed)\n",
    "# set batch size\n",
    "batchsize = 16\n",
    "\n",
    "# combine the two datagets into one that simultaneously\n",
    "# provides both input and target image\n",
    "train_generator = zip(datagen1.flow( trainX, None, batchsize, seed=seed),\n",
    "                      datagen2.flow( trainY, None, batchsize, seed=seed))\n",
    "\n",
    "# calculate how many steps per epoch\n",
    "# If we set it to\n",
    "# number of samples / batch size\n",
    "# then we'll see each training example once per epoch\n",
    "# which is what we want\n",
    "steps = np.int(trainX.shape[0]/batchsize)"
   ]
  },
  {
   "cell_type": "markdown",
   "metadata": {},
   "source": [
    "It's always a good to check that our data loaded correctly and the inputs correspond to the target images. It is especially important to make sure our data generators are doing what we intend.\n",
    "\n",
    "The below cell asks the data generator for its next batch, then displays the first image of the input and target in the batch. Run it a couple times to see the different augmentations that the generator is doing."
   ]
  },
  {
   "cell_type": "code",
   "execution_count": null,
   "metadata": {
    "scrolled": false
   },
   "outputs": [],
   "source": [
    "dispX,dispY = next(train_generator)\n",
    "plt.figure()\n",
    "disp = np.c_[dispX[0,...,0],\n",
    "             dispY[0,...,0]]\n",
    "plt.imshow(disp,cmap='gray')\n",
    "plt.show()"
   ]
  },
  {
   "cell_type": "markdown",
   "metadata": {},
   "source": [
    "# Transforming Segmentation Network into Translation Network\n",
    "\n",
    "We have already built a segmentation CNN in the convolutional encoder-decoder format. This is exactly what we need for image to image translation since our targets are equivalent in size to our inputs.\n",
    "\n",
    "However, there are some changes we need to make. Our output is continuous rather than binary. This means:\n",
    "1. We want a continuous output that isn't squashed by a sigmoid function\n",
    "2. We need a loss function that works with regression error, not overlap error like Dice\n",
    "\n",
    "We will start with the previously made network that has skip connections and had good performance on the segmentation task. \n",
    "\n",
    "Let's get to work!"
   ]
  },
  {
   "cell_type": "markdown",
   "metadata": {},
   "source": [
    "We have already imported keras, so we don't technically need to import anything. It keep code a lot cleaner to individually import layers, so we'll do that again."
   ]
  },
  {
   "cell_type": "code",
   "execution_count": null,
   "metadata": {
    "collapsed": true
   },
   "outputs": [],
   "source": [
    "# import keras layers\n",
    "from keras.layers import Input,Conv2D,ZeroPadding2D\n",
    "from keras.layers import concatenate,Conv2DTranspose\n",
    "from keras.models import Model"
   ]
  },
  {
   "cell_type": "markdown",
   "metadata": {},
   "source": [
    "Below is the code used to define the segmentation network in the previous example, including the use of skip connections. Make the appropriate alterations to this code as described above to transform it into a image-to-image translation model."
   ]
  },
  {
   "cell_type": "code",
   "execution_count": null,
   "metadata": {
    "collapsed": true
   },
   "outputs": [],
   "source": [
    "inp = Input(shape=trainX.shape[1:])\n",
    "init = 'he_normal'\n",
    "x = Conv2D(10,kernel_size=(3,3),padding='same',activation='relu',kernel_initializer=init)(inp)\n",
    "x1 = Conv2D(20, kernel_size=(3,3),padding='same',activation='relu',kernel_initializer=init)(x)\n",
    "zp = ZeroPadding2D(padding=(1,1))(x1)\n",
    "x = Conv2D(30, kernel_size=(4,4),\n",
    "                strides=(2,2),\n",
    "                activation='relu',\n",
    "                kernel_initializer=init)(zp)\n",
    "x = Conv2D(30, kernel_size=(3,3),padding='same',activation='relu',kernel_initializer=init)(x)\n",
    "x2 = Conv2D(40, kernel_size=(3,3),padding='same',activation='relu',kernel_initializer=init)(x)\n",
    "zp = ZeroPadding2D(padding=(1,1))(x2)\n",
    "x = Conv2D(40, kernel_size=(4,4),\n",
    "                strides=(2,2),\n",
    "                activation='relu',\n",
    "                kernel_initializer=init)(zp)\n",
    "x = Conv2D(50, kernel_size=(3,3),padding='same',activation='relu',kernel_initializer=init)(x)\n",
    "x = Conv2D(50, kernel_size=(3,3),padding='same',activation='relu',kernel_initializer=init)(x)\n",
    "x = Conv2DTranspose(40, kernel_size=(4,4),\n",
    "                        strides=(2,2),\n",
    "                        activation='relu',\n",
    "                        kernel_initializer=init)(x)\n",
    "x = Conv2D(40, kernel_size=(3,3),activation='relu',kernel_initializer=init)(x)\n",
    "x = concatenate([x,x2])\n",
    "x = Conv2D(30, kernel_size=(3,3),padding='same',activation='relu',kernel_initializer=init)(x)\n",
    "x = Conv2D(30, kernel_size=(3,3),padding='same',activation='relu',kernel_initializer=init)(x)\n",
    "x = Conv2DTranspose(20, kernel_size=(4,4),\n",
    "                        strides=(2,2),\n",
    "                        activation='relu',\n",
    "                        kernel_initializer=init)(x)\n",
    "x = Conv2D(20, kernel_size=(3,3),activation='relu',kernel_initializer=init)(x)\n",
    "x = concatenate([x,x1])\n",
    "x = Conv2D(10, kernel_size=(3,3),padding='same',activation='relu',kernel_initializer=init)(x)\n",
    "x = Conv2D(10, kernel_size=(3,3),padding='same',activation='relu',kernel_initializer=init)(x)\n",
    "\n",
    "# Final output layer\n",
    "out = Conv2D(1,kernel_size=(1,1),activation='sigmoid',kernel_initializer=init)(x)\n",
    "\n",
    "SegModel = Model(inp,out)"
   ]
  },
  {
   "cell_type": "markdown",
   "metadata": {},
   "source": [
    "Next, define the loss function you wish to use for this problem"
   ]
  },
  {
   "cell_type": "code",
   "execution_count": null,
   "metadata": {
    "collapsed": true
   },
   "outputs": [],
   "source": [
    "loss = "
   ]
  },
  {
   "cell_type": "markdown",
   "metadata": {},
   "source": [
    "##### Question 2: What are the consequences of difference loss functions for this task?"
   ]
  },
  {
   "cell_type": "markdown",
   "metadata": {},
   "source": [
    "Finally, add an optimizer and compile the model"
   ]
  },
  {
   "cell_type": "code",
   "execution_count": null,
   "metadata": {
    "collapsed": true
   },
   "outputs": [],
   "source": [
    "opt = keras.optimizers.Adam()\n",
    "\n",
    "RegModel.compile(loss=loss,optimizer=opt)"
   ]
  },
  {
   "cell_type": "markdown",
   "metadata": {},
   "source": [
    "Now all you have to do is call your compiled model on this data generator. Here's the syntax:\n",
    "\n",
    "`hist = Model.fit_generator(DataGenerator, steps_per_epoch,epochs,validation_data=(x,y)`\n",
    "\n",
    "Fill in the syntax with the parameters we calculated above, set the epochs to 5, and let it run"
   ]
  },
  {
   "cell_type": "code",
   "execution_count": null,
   "metadata": {
    "scrolled": true
   },
   "outputs": [],
   "source": []
  },
  {
   "cell_type": "markdown",
   "metadata": {},
   "source": [
    "### Evaluate Model\n",
    "After the training is complete, we evaluate the model on our test data to see the results."
   ]
  },
  {
   "cell_type": "code",
   "execution_count": null,
   "metadata": {
    "collapsed": true,
    "scrolled": false
   },
   "outputs": [],
   "source": [
    "# Get the Dice score from evaluating the model and print it out\n",
    "score = RegModel.evaluate(testX, testY, verbose=0)\n",
    "print('Final loss on test set: {:.03e}'.format(score))"
   ]
  },
  {
   "cell_type": "markdown",
   "metadata": {},
   "source": [
    "Plot the loss curves too:"
   ]
  },
  {
   "cell_type": "code",
   "execution_count": null,
   "metadata": {
    "collapsed": true,
    "scrolled": false
   },
   "outputs": [],
   "source": [
    "# Plot the losses that are stored in the 'hist' variable\n",
    "plt.figure(figsize=(6.0, 4.0));\n",
    "plt.plot(hist.epoch,hist.history['loss'],'b-s')\n",
    "plt.plot(hist.epoch,hist.history['val_loss'],'r-s')\n",
    "plt.legend(['Training Loss',\n",
    "            ' Validation Loss'])\n",
    "plt.xlabel('Epochs')\n",
    "plt.ylabel('Loss')\n",
    "plt.ylim([0,np.max(hist.history['loss'])])\n",
    "plt.show()"
   ]
  },
  {
   "cell_type": "markdown",
   "metadata": {},
   "source": [
    "Another useful way to evaluate a model is to just look at the outputs. We can look at a sample image to see how the images look compared to the ground truth."
   ]
  },
  {
   "cell_type": "code",
   "execution_count": null,
   "metadata": {
    "collapsed": true
   },
   "outputs": [],
   "source": [
    "# Get the predictions of the model on the test inputs\n",
    "predictions = RegModel.predict(testX)"
   ]
  },
  {
   "cell_type": "markdown",
   "metadata": {},
   "source": [
    "We'll display the input image, output image, ground truth image, and the difference image in a 2x2 grid. We'll add labels just to make it easier to know what we are looking at."
   ]
  },
  {
   "cell_type": "code",
   "execution_count": null,
   "metadata": {
    "collapsed": true,
    "scrolled": false
   },
   "outputs": [],
   "source": [
    "# pick a random slice to examine\n",
    "disp_ind = 40\n",
    "# get the T1 image, and the target mask\n",
    "image = testX[disp_ind,...,0]\n",
    "# get the model predicted T2 image\n",
    "predicted_image = predictions[disp_ind,...,0]\n",
    "# get the actual T2 image\n",
    "truth_image = testY[disp_ind,...,0]\n",
    "# get the absolute difference image\n",
    "diff_image = np.abs(predicted_image-truth_image)\n",
    "# normalize different image\n",
    "diff_image /= np.max(diff_image)\n",
    "# create a figure\n",
    "fig = plt.figure()\n",
    "ax = fig.add_subplot(111)\n",
    "# combine images together into\n",
    "# 2 by 2 grid\n",
    "disp1 = np.c_[image,diff_image]\n",
    "disp2 = np.c_[predicted_image,truth_image]\n",
    "disp = np.r_[disp1,disp2]\n",
    "# display image\n",
    "plt.imshow(disp,cmap='gray')\n",
    "# turn axis off\n",
    "plt.axis('off')\n",
    "# add labels to keep track of\n",
    "# which images are which\n",
    "ax.text(0.25, 1.01, 'Input T1',\n",
    "         horizontalalignment='center',\n",
    "        transform=ax.transAxes,\n",
    "        color='green', fontsize=10)\n",
    "ax.text(0.75, 1.01, 'Difference',\n",
    "         horizontalalignment='center',\n",
    "        transform=ax.transAxes,\n",
    "        color='green', fontsize=10)\n",
    "ax.text(0.25, -.05, 'Output T2',\n",
    "         horizontalalignment='center',\n",
    "        transform=ax.transAxes,\n",
    "        color='green', fontsize=10)\n",
    "ax.text(0.75, -.05, 'Actual T2',\n",
    "         horizontalalignment='center',\n",
    "        transform=ax.transAxes,\n",
    "        color='green', fontsize=10)\n",
    "plt.show()"
   ]
  },
  {
   "cell_type": "markdown",
   "metadata": {},
   "source": [
    "Results will vary here. It's unlikely to be perfect. However, you can probably notice some of the contrast patterns are starting to align with the target image, and likely there are a few concentrated areas of error in the difference image."
   ]
  },
  {
   "cell_type": "markdown",
   "metadata": {},
   "source": [
    "##### Question 3: What do you notice about the input and target images? Look closely, and compare to the output image"
   ]
  },
  {
   "cell_type": "markdown",
   "metadata": {},
   "source": [
    "## Future Directions\n",
    "\n",
    "In the last year or so, a specialized type of deep learning model known as GANs have taken over image-to-image translation problems. GAN stands for Generative Adversarial Network. There are lots of resources online, but we'll provide a quick breakdown of them here in the context of medical imaging.\n",
    "\n",
    "  - Generative: The model contains a \"generator\" that is responsible for turning the input image into the target image. The network we used for this example would serve as the generator.\n",
    "  - Adversarial: There is a second part of the model known as a \"discriminator\". The job of this discriminator is to determine whether an image that it is given is real or \"fake\": produced by the generator. It takes the form of a classification network that classifies the test image as real or fake. The score of the discriminator is used as the loss of the generator. Thus, these networks battle against each other in an adversarial way.\n",
    "    \n",
    "Initially, the generator will not produce very good images- T2 images for this example. The discriminator will easily tell the difference between real T2 and generator-produced T2 images, and the generator's loss will be high. However, the generator will learn from this loss and start producing better looking T2 images. Eventually, the generator will produce T2 images that are indistinguishable from real T2 images.\n",
    "\n",
    "There have been 100s of versions of different GANs developed. If you can use image-to-image translation in your work, they are definitely an area to explore."
   ]
  },
  {
   "cell_type": "markdown",
   "metadata": {},
   "source": [
    "## End of Image To Image Translation Example. Happy deep learning!"
   ]
  },
  {
   "cell_type": "markdown",
   "metadata": {},
   "source": [
    "## Answers to Questions\n",
    "#### 1- What is the purpose of the training, validation, and testing datasets?\n",
    "\n",
    "* Training: These data are fed into the model, the loss is calculated on the results, and the weights in the network are updated based on that loss.\n",
    "* Validation: This dataset is checked at the end of every epoch, and is used to determine whether the model is overfitting the training data or is learning more general features that can apply to broader data.\n",
    "* Testing: Since the model sees the validation data during the course of training, a testing datset is occasionally kept separate and checked at the end of training for a truly independent measure of the model's performance.\n",
    "    \n",
    "#### 2- What are the consequences of different loss functions for this task?\n",
    "\n",
    "There are two main choices for this regression task: mean squared error or mean absolute error. There are mathematical differences in what each error encourages the model to learn.\n",
    "\n",
    "Mean square error encourages the output to be averaged. When there are multiple possible targets for given inputs to the model, it will learn to produce the average of these outputs. This results in smooth and sometimes blurry results.\n",
    "\n",
    "Mean absolute error encourages the output to be a median. This is usually better for image tasks. It can still produce blurry outputs in areas of uncertainty, but generally does a better job of preserving edges and subtler features.\n",
    "\n",
    "\n",
    "#### 3- What do you notice about the input and target images?\n",
    "\n",
    "Depending on which slice you chose to display, you can likely notice that there are imperfections in the registration of the input and target images- they aren't perfectly lined up. This is a common problem in medical imaging. For image-to-image translation tasks, it means that no matter how good your model is, there won't be a perfect solution. In fact, you might notice that the model's output aligns more closely with the input. This makes sense- the model has no idea that there are registration problems- it's just trying to convert one image to look like another.\n",
    "\n",
    "If there are systematic registration problems (e.g. output is shifted, rotated from input) then the model will learn this bias and implement that in its solutions. If the problems are random, it likely won't be able to replicate them,  and be a little blurry instead.\n",
    "\n",
    "If you are interested in the state-of-the-art solutions to registration problems, search for \"CycleGANs\".\n"
   ]
  }
 ],
 "metadata": {
  "kernelspec": {
   "display_name": "Python 3",
   "language": "python",
   "name": "python3"
  },
  "language_info": {
   "codemirror_mode": {
    "name": "ipython",
    "version": 3
   },
   "file_extension": ".py",
   "mimetype": "text/x-python",
   "name": "python",
   "nbconvert_exporter": "python",
   "pygments_lexer": "ipython3",
   "version": "3.6.3"
  }
 },
 "nbformat": 4,
 "nbformat_minor": 2
}
