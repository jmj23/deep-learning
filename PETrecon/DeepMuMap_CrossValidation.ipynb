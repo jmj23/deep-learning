{
 "cells": [
  {
   "cell_type": "code",
   "execution_count": 1,
   "metadata": {},
   "outputs": [
    {
     "name": "stderr",
     "output_type": "stream",
     "text": [
      "Using TensorFlow backend.\n"
     ]
    }
   ],
   "source": [
    "# -*- coding: utf-8 -*-\n",
    "\"\"\"\n",
    "Created on Wed May 31 14:06:34 2017\n",
    "\n",
    "@author: JMJ136\n",
    "\"\"\"\n",
    "import sys\n",
    "import os\n",
    "sys.path.insert(1, os.path.join(sys.path[0], '..'))\n",
    "os.chdir(os.path.join(os.path.expanduser('~'),'deep-learning','PETrecon'))\n",
    "sys.path.insert(1,os.path.join(os.path.expanduser('~'),'deep-learning','Utils'))\n",
    "from keras.callbacks import EarlyStopping, ModelCheckpoint, ReduceLROnPlateau\n",
    "from keras import optimizers\n",
    "from keras.losses import mean_absolute_error as mae_loss\n",
    "from keras.models import load_model\n",
    "%matplotlib notebook\n",
    "from matplotlib import pyplot as plt\n",
    "import numpy as np\n",
    "import h5py\n",
    "import time\n",
    "from CustomMetrics import weighted_mse\n",
    "from HelperFunctions import BlockModel_reg\n",
    "import skimage.exposure as skexp\n",
    "# Get the first available GPU\n",
    "import GPUtil\n",
    "os.environ[\"CUDA_DEVICE_ORDER\"] = \"PCI_BUS_ID\"\n",
    "DEVICE_ID_LIST = GPUtil.getFirstAvailable()\n",
    "os.environ[\"CUDA_VISIBLE_DEVICES\"] = str(DEVICE_ID_LIST[0])\n",
    "\n",
    "dual_output = True\n",
    "numEp = 2\n",
    "numFolds = 6"
   ]
  },
  {
   "cell_type": "code",
   "execution_count": 13,
   "metadata": {},
   "outputs": [],
   "source": [
    "#%%\n",
    "# Model Save Path/name\n",
    "if dual_output:\n",
    "    model_filepath = 'MuMapModel_Xval_fold_{}.h5'\n",
    "else:\n",
    "    model_filepath = 'MuMapModel_Xval_fold_{}_nodual.h5'\n",
    "# Data path/name\n",
    "datapath = 'petrecondata_crossval.hdf5'\n",
    "MSos = 1    # MultiSlice offset\n",
    "\n",
    "with h5py.File(datapath, 'r') as f:\n",
    "    x = np.array(f.get('inputs'))\n",
    "    y_reg = np.array(f.get('reg_targets'))\n",
    "    y_class = np.array(f.get('class_targets'))"
   ]
  },
  {
   "cell_type": "code",
   "execution_count": 14,
   "metadata": {},
   "outputs": [],
   "source": [
    "# split data into list of arrays, subject-wise\n",
    "sliceNumArray = np.array([59, 50, 52, 47, 50, 55, 51, 50, 50, 58, 59, 52, 60, 59, 55, 53, 55, 52])\n",
    "sliceCumArray = np.concatenate(([0],np.cumsum(sliceNumArray)))\n",
    "x_list = [x[sliceCumArray[ind]:sliceCumArray[ind+1]] for ind in range(len(sliceNumArray))]\n",
    "y_reg_list = [y_reg[sliceCumArray[ind]:sliceCumArray[ind+1]] for ind in range(len(sliceNumArray))]\n",
    "y_class_list = [y_class[sliceCumArray[ind]:sliceCumArray[ind+1]] for ind in range(len(sliceNumArray))]\n",
    "del x,y_reg,y_class"
   ]
  },
  {
   "cell_type": "code",
   "execution_count": 15,
   "metadata": {},
   "outputs": [],
   "source": [
    "def GetCurrentSplits(numFolds,cur_fold,x_list,y_reg_list,y_class_list):\n",
    "    # split into cross validation folds\n",
    "    lst = range(18)\n",
    "    subj_groups = np.array_split(lst,numFolds)\n",
    "    cur_val_group = cur_fold\n",
    "    cur_test_group = (cur_fold + 1) % numFolds\n",
    "    cur_train_group = list(range(numFolds))\n",
    "    cur_train_group.remove(cur_val_group)\n",
    "    cur_train_group.remove(cur_test_group)\n",
    "    cur_train_subjs = np.concatenate([g for i,g in enumerate(subj_groups) if i in cur_train_group])\n",
    "    cur_val_subjs = subj_groups[cur_val_group]\n",
    "    cur_test_subjs = subj_groups[cur_test_group]\n",
    "    cur_train_x = np.concatenate([x_list[ind] for ind in cur_train_subjs])\n",
    "    cur_val_x = np.concatenate([x_list[ind] for ind in cur_val_subjs])\n",
    "    cur_test_x = np.concatenate([x_list[ind] for ind in cur_test_subjs])\n",
    "    cur_train_y_reg = np.concatenate([y_reg_list[ind] for ind in cur_train_subjs])\n",
    "    cur_val_y_reg = np.concatenate([y_reg_list[ind] for ind in cur_val_subjs])\n",
    "    cur_test_y_reg = np.concatenate([y_reg_list[ind] for ind in cur_test_subjs])\n",
    "    cur_train_y_class = np.concatenate([y_class_list[ind] for ind in cur_train_subjs])\n",
    "    cur_val_y_class = np.concatenate([y_class_list[ind] for ind in cur_val_subjs])\n",
    "    cur_test_y_class = np.concatenate([y_class_list[ind] for ind in cur_test_subjs])\n",
    "    x_tup = cur_train_x,cur_val_x,cur_test_x\n",
    "    y_tup = cur_train_y_reg,cur_val_y_reg,cur_test_y_reg,cur_train_y_class,cur_val_y_class,cur_test_y_class\n",
    "    return x_tup,y_tup"
   ]
  },
  {
   "cell_type": "code",
   "execution_count": null,
   "metadata": {},
   "outputs": [],
   "source": [
    "#%% Cross validation training\n",
    "if dual_output:\n",
    "    scores = np.zeros((numFolds,5))\n",
    "else:\n",
    "    scores = np.zeros((numFolds,3))\n",
    "\n",
    "for fold in range(numFolds):\n",
    "\n",
    "    print('Starting fold {}/{}...'.format(fold+1,numFolds))\n",
    "    # Get current data\n",
    "    print('Getting current fold data...')\n",
    "    (trainX,valX,testX),(trainYr,valYr,testYr,trainYc,valYc,testYc) = GetCurrentSplits(numFolds,fold,x_list,y_reg_list,y_class_list)\n",
    "    # Set callbacks\n",
    "    cur_filepath = model_filepath.format(fold)\n",
    "#     earlyStopping = EarlyStopping(monitor='val_loss',patience=10,verbose=1,mode='auto')\n",
    "    if dual_output:\n",
    "        checkpoint = ModelCheckpoint(cur_filepath, monitor='val_reg_output_loss',verbose=0,\n",
    "                                     save_best_only=True, save_weights_only=True,\n",
    "                                     mode='auto', period=1)\n",
    "        reduceLR = ReduceLROnPlateau(monitor='val_loss',patience=3,verbose=1,factor=0.5)\n",
    "    else:\n",
    "        checkpoint = ModelCheckpoint(cur_filepath, monitor='val_loss',verbose=0,\n",
    "                                     save_best_only=True, save_weights_only=True,\n",
    "                                     mode='auto', period=1)\n",
    "        reduceLR = ReduceLROnPlateau(monitor='val_loss',patience=3,verbose=1,factor=0.5)\n",
    "    CBs = [checkpoint,reduceLR]\n",
    "\n",
    "    # augment training data\n",
    "    print('Augmenting training data...')\n",
    "    # LR flips\n",
    "    flX = np.flip(trainX,2)\n",
    "    flYr = np.flip(trainYr,1)\n",
    "    if dual_output:\n",
    "        flYc = np.flip(trainYc,1)\n",
    "\n",
    "    # gamma corrections\n",
    "    gammas = .5 + np.random.rand(trainX.shape[0])\n",
    "    gmX = np.copy(trainX)\n",
    "    for ii in range(gmX.shape[0]):\n",
    "        gmX[ii,...,0] = skexp.adjust_gamma(gmX[ii,...,0],gamma=gammas[ii])\n",
    "        gmX[ii,...,1] = skexp.adjust_gamma(gmX[ii,...,1],gamma=gammas[ii])\n",
    "\n",
    "    gmYr = np.copy(trainYr)\n",
    "    if dual_output:\n",
    "        gmYc = np.copy(trainYc)\n",
    "\n",
    "    # combine all together\n",
    "    trainX = np.concatenate((trainX,flX,gmX))\n",
    "    trainYr = np.concatenate((trainYr,flYr,gmYr))\n",
    "    if dual_output:\n",
    "        trainYc = np.concatenate((trainYc,flYc,gmYc))\n",
    "\n",
    "    # prepare model for training\n",
    "    print(\"Generating new model\")\n",
    "\n",
    "    RegModel = BlockModel_reg(trainX,dual_output,8)\n",
    "    adopt = optimizers.adam()\n",
    "    if dual_output:\n",
    "        RegModel.compile(optimizer=adopt,\n",
    "                     loss={'reg_output': weighted_mse, 'class_output': \"categorical_crossentropy\"},\n",
    "                     loss_weights={'reg_output': 1., 'class_output': .3},\n",
    "                     metrics={'reg_output':mae_loss})\n",
    "    else:\n",
    "        RegModel.compile(optimizer=adopt,loss= weighted_mse, metrics=[mae_loss])\n",
    "\n",
    "    # training\n",
    "    print('Starting training')\n",
    "    if dual_output:\n",
    "        history = RegModel.fit(trainX,\n",
    "                               {'reg_output': trainYr,'class_output':trainYc},\n",
    "                               batch_size=16, epochs=numEp,shuffle=True,\n",
    "                               validation_data=(valX,{'reg_output': valYr,'class_output':valYc}),\n",
    "                               verbose=1,\n",
    "                               callbacks=CBs)\n",
    "    else:\n",
    "        history = RegModel.fit(trainX,trainYr,\n",
    "                               batch_size=16, epochs=numEp,shuffle=True,\n",
    "                               validation_data=(valX,valYr),\n",
    "                               verbose=1,\n",
    "                               callbacks=CBs)\n",
    "    print('Training complete')\n",
    "\n",
    "    print('Loading best model...')\n",
    "    try:\n",
    "        RegModel.load_weights(cur_filepath)\n",
    "    except Exception as e:\n",
    "        print('No new model saved')\n",
    "    if dual_output:\n",
    "        print('Evaluating testing set...')\n",
    "        test_score = RegModel.evaluate(testX,{'reg_output': testYr,'class_output': testYc})\n",
    "        print('')\n",
    "        print(\"Metrics on test data for fold {}\".format(fold+1))\n",
    "        print(\"Weighted L1 loss: {:.04e}, Classification Loss: {:.04e}\".format(test_score[1],test_score[2]))\n",
    "        print('Mean absolute error is: {:.04e}'.format(test_score[3]))\n",
    "        scores[fold] = [fold] + test_score\n",
    "    else:\n",
    "        print('Evaluating testing set...')\n",
    "        test_score = RegModel.evaluate(testX,testYr)\n",
    "        print('')\n",
    "        print(\"Metrics on test data for fold {}\".format(fold+1))\n",
    "        print(\"Weighted L1 loss for fold {}: {:.04e}\".format(fold,test_score[0]))\n",
    "        print('Mean absolute error is: {:.04e}'.format(test_score[1]))\n",
    "        scores[fold] = [fold] + test_score\n",
    "\n",
    "    # Save score data\n",
    "    if dual_output:\n",
    "        np.savetxt('cross_validation_scores.txt', scores, fmt='%.08f')\n",
    "    else:\n",
    "        np.savetxt('cross_validation_scores_nodual.txt', scores, fmt='%.08f')\n",
    "    print('Data saved')"
   ]
  },
  {
   "cell_type": "markdown",
   "metadata": {},
   "source": [
    "### Display test set"
   ]
  },
  {
   "cell_type": "code",
   "execution_count": 5,
   "metadata": {
    "scrolled": true
   },
   "outputs": [
    {
     "name": "stdout",
     "output_type": "stream",
     "text": [
      "╒══════════╤══════════════╤═════════════╤═══════════════╤════════════╕\n",
      "│   Fold # │   Comb Score │   Reg Score │   Class Score │        MAE │\n",
      "╞══════════╪══════════════╪═════════════╪═══════════════╪════════════╡\n",
      "│        0 │    0.0487106 │   0.0181387 │     0.101906  │ 0.0135232  │\n",
      "├──────────┼──────────────┼─────────────┼───────────────┼────────────┤\n",
      "│        1 │    0.0312663 │   0.0124664 │     0.0626661 │ 0.00955867 │\n",
      "├──────────┼──────────────┼─────────────┼───────────────┼────────────┤\n",
      "│        2 │    0.0544785 │   0.0175534 │     0.123083  │ 0.0129648  │\n",
      "├──────────┼──────────────┼─────────────┼───────────────┼────────────┤\n",
      "│        3 │    0.114465  │   0.0278707 │     0.288647  │ 0.023378   │\n",
      "├──────────┼──────────────┼─────────────┼───────────────┼────────────┤\n",
      "│        4 │    0.0437024 │   0.0164348 │     0.0908922 │ 0.01315    │\n",
      "├──────────┼──────────────┼─────────────┼───────────────┼────────────┤\n",
      "│        5 │    0.0351854 │   0.0120063 │     0.0772635 │ 0.0100772  │\n",
      "╘══════════╧══════════════╧═════════════╧═══════════════╧════════════╛\n"
     ]
    }
   ],
   "source": [
    "#%% Display results of training\n",
    "from tabulate import tabulate\n",
    "if dual_output:\n",
    "    scores = np.loadtxt('cross_validation_scores.txt', dtype=float)\n",
    "    print(tabulate(scores, headers=['Fold #','Comb Score', 'Reg Score', 'Class Score','MAE'],tablefmt='fancy_grid'))\n",
    "else:\n",
    "    scores = np.loadtxt('cross_validation_scores_nodual.txt',dtype=float)\n",
    "    print(tabulate(scores, headers=['Fold #','Reg Score','MAE'],tablefmt='fancy_grid'))\n"
   ]
  },
  {
   "cell_type": "code",
   "execution_count": 9,
   "metadata": {},
   "outputs": [
    {
     "data": {
      "text/plain": [
       "0.0116703"
      ]
     },
     "execution_count": 9,
     "metadata": {},
     "output_type": "execute_result"
    }
   ],
   "source": [
    "np.median(scores[:,2])"
   ]
  },
  {
   "cell_type": "code",
   "execution_count": 6,
   "metadata": {},
   "outputs": [
    {
     "name": "stdout",
     "output_type": "stream",
     "text": [
      "╒══════════╤═════════════╤════════════╕\n",
      "│   Fold # │   Reg Score │        MAE │\n",
      "╞══════════╪═════════════╪════════════╡\n",
      "│        0 │   0.0174722 │ 0.0123259  │\n",
      "├──────────┼─────────────┼────────────┤\n",
      "│        1 │   0.0118333 │ 0.00915342 │\n",
      "├──────────┼─────────────┼────────────┤\n",
      "│        2 │   0.0159273 │ 0.0113472  │\n",
      "├──────────┼─────────────┼────────────┤\n",
      "│        3 │   0.0260558 │ 0.0216727  │\n",
      "├──────────┼─────────────┼────────────┤\n",
      "│        4 │   0.0144732 │ 0.0119933  │\n",
      "├──────────┼─────────────┼────────────┤\n",
      "│        5 │   0.0122873 │ 0.0103953  │\n",
      "╘══════════╧═════════════╧════════════╛\n"
     ]
    }
   ],
   "source": [
    "scores = np.loadtxt('cross_validation_scores_nodual.txt',dtype=float)\n",
    "print(tabulate(scores, headers=['Fold #','Reg Score','MAE'],tablefmt='fancy_grid'))"
   ]
  },
  {
   "cell_type": "code",
   "execution_count": 9,
   "metadata": {},
   "outputs": [
    {
     "name": "stdout",
     "output_type": "stream",
     "text": [
      "Generating samples from best model\n",
      "151/151 [==============================] - 1s 9ms/step\n",
      "Infererence time:  8.530610444529957  ms per slice\n"
     ]
    },
    {
     "ename": "ValueError",
     "evalue": "Input images must have the same dimensions.",
     "output_type": "error",
     "traceback": [
      "\u001b[0;31m---------------------------------------------------------------------------\u001b[0m",
      "\u001b[0;31mValueError\u001b[0m                                Traceback (most recent call last)",
      "\u001b[0;32m<ipython-input-9-6570d33dcfa3>\u001b[0m in \u001b[0;36m<module>\u001b[0;34m()\u001b[0m\n\u001b[1;32m     16\u001b[0m \u001b[0;34m\u001b[0m\u001b[0m\n\u001b[1;32m     17\u001b[0m \u001b[0;32mfrom\u001b[0m \u001b[0mskimage\u001b[0m\u001b[0;34m.\u001b[0m\u001b[0mmeasure\u001b[0m \u001b[0;32mimport\u001b[0m \u001b[0mcompare_ssim\u001b[0m \u001b[0;32mas\u001b[0m \u001b[0mssim\u001b[0m\u001b[0;34m\u001b[0m\u001b[0m\n\u001b[0;32m---> 18\u001b[0;31m \u001b[0mSSIMs\u001b[0m \u001b[0;34m=\u001b[0m \u001b[0;34m[\u001b[0m\u001b[0mssim\u001b[0m\u001b[0;34m(\u001b[0m\u001b[0mim1\u001b[0m\u001b[0;34m,\u001b[0m\u001b[0mim2\u001b[0m\u001b[0;34m)\u001b[0m \u001b[0;32mfor\u001b[0m \u001b[0mim1\u001b[0m\u001b[0;34m,\u001b[0m \u001b[0mim2\u001b[0m \u001b[0;32min\u001b[0m \u001b[0mzip\u001b[0m\u001b[0;34m(\u001b[0m\u001b[0mtestYr\u001b[0m\u001b[0;34m[\u001b[0m\u001b[0;34m...\u001b[0m\u001b[0;34m,\u001b[0m\u001b[0;36m0\u001b[0m\u001b[0;34m]\u001b[0m\u001b[0;34m,\u001b[0m\u001b[0mreg_output\u001b[0m\u001b[0;34m[\u001b[0m\u001b[0;34m...\u001b[0m\u001b[0;34m,\u001b[0m\u001b[0;36m0\u001b[0m\u001b[0;34m]\u001b[0m\u001b[0;34m)\u001b[0m\u001b[0;34m]\u001b[0m\u001b[0;34m\u001b[0m\u001b[0m\n\u001b[0m\u001b[1;32m     19\u001b[0m \u001b[0;34m\u001b[0m\u001b[0m\n\u001b[1;32m     20\u001b[0m \u001b[0mnum_bins\u001b[0m \u001b[0;34m=\u001b[0m \u001b[0;36m10\u001b[0m\u001b[0;34m\u001b[0m\u001b[0m\n",
      "\u001b[0;32m<ipython-input-9-6570d33dcfa3>\u001b[0m in \u001b[0;36m<listcomp>\u001b[0;34m(.0)\u001b[0m\n\u001b[1;32m     16\u001b[0m \u001b[0;34m\u001b[0m\u001b[0m\n\u001b[1;32m     17\u001b[0m \u001b[0;32mfrom\u001b[0m \u001b[0mskimage\u001b[0m\u001b[0;34m.\u001b[0m\u001b[0mmeasure\u001b[0m \u001b[0;32mimport\u001b[0m \u001b[0mcompare_ssim\u001b[0m \u001b[0;32mas\u001b[0m \u001b[0mssim\u001b[0m\u001b[0;34m\u001b[0m\u001b[0m\n\u001b[0;32m---> 18\u001b[0;31m \u001b[0mSSIMs\u001b[0m \u001b[0;34m=\u001b[0m \u001b[0;34m[\u001b[0m\u001b[0mssim\u001b[0m\u001b[0;34m(\u001b[0m\u001b[0mim1\u001b[0m\u001b[0;34m,\u001b[0m\u001b[0mim2\u001b[0m\u001b[0;34m)\u001b[0m \u001b[0;32mfor\u001b[0m \u001b[0mim1\u001b[0m\u001b[0;34m,\u001b[0m \u001b[0mim2\u001b[0m \u001b[0;32min\u001b[0m \u001b[0mzip\u001b[0m\u001b[0;34m(\u001b[0m\u001b[0mtestYr\u001b[0m\u001b[0;34m[\u001b[0m\u001b[0;34m...\u001b[0m\u001b[0;34m,\u001b[0m\u001b[0;36m0\u001b[0m\u001b[0;34m]\u001b[0m\u001b[0;34m,\u001b[0m\u001b[0mreg_output\u001b[0m\u001b[0;34m[\u001b[0m\u001b[0;34m...\u001b[0m\u001b[0;34m,\u001b[0m\u001b[0;36m0\u001b[0m\u001b[0;34m]\u001b[0m\u001b[0;34m)\u001b[0m\u001b[0;34m]\u001b[0m\u001b[0;34m\u001b[0m\u001b[0m\n\u001b[0m\u001b[1;32m     19\u001b[0m \u001b[0;34m\u001b[0m\u001b[0m\n\u001b[1;32m     20\u001b[0m \u001b[0mnum_bins\u001b[0m \u001b[0;34m=\u001b[0m \u001b[0;36m10\u001b[0m\u001b[0;34m\u001b[0m\u001b[0m\n",
      "\u001b[0;32m~/.conda/envs/tf_keras/lib/python3.5/site-packages/skimage/measure/_structural_similarity.py\u001b[0m in \u001b[0;36mcompare_ssim\u001b[0;34m(X, Y, win_size, gradient, data_range, multichannel, gaussian_weights, full, **kwargs)\u001b[0m\n\u001b[1;32m     83\u001b[0m     \"\"\"\n\u001b[1;32m     84\u001b[0m     \u001b[0;32mif\u001b[0m \u001b[0;32mnot\u001b[0m \u001b[0mX\u001b[0m\u001b[0;34m.\u001b[0m\u001b[0mshape\u001b[0m \u001b[0;34m==\u001b[0m \u001b[0mY\u001b[0m\u001b[0;34m.\u001b[0m\u001b[0mshape\u001b[0m\u001b[0;34m:\u001b[0m\u001b[0;34m\u001b[0m\u001b[0m\n\u001b[0;32m---> 85\u001b[0;31m         \u001b[0;32mraise\u001b[0m \u001b[0mValueError\u001b[0m\u001b[0;34m(\u001b[0m\u001b[0;34m'Input images must have the same dimensions.'\u001b[0m\u001b[0;34m)\u001b[0m\u001b[0;34m\u001b[0m\u001b[0m\n\u001b[0m\u001b[1;32m     86\u001b[0m \u001b[0;34m\u001b[0m\u001b[0m\n\u001b[1;32m     87\u001b[0m     \u001b[0;32mif\u001b[0m \u001b[0mmultichannel\u001b[0m\u001b[0;34m:\u001b[0m\u001b[0;34m\u001b[0m\u001b[0m\n",
      "\u001b[0;31mValueError\u001b[0m: Input images must have the same dimensions."
     ]
    }
   ],
   "source": [
    "#%%\n",
    "print('Generating samples from best model')\n",
    "best_fold = 1\n",
    "(_,_,testX),(_,_,testYr,_,_,testYc) = GetCurrentSplits(numFolds,best_fold,x_list,y_reg_list,y_class_list)\n",
    "cur_filepath = model_filepath.format(best_fold)\n",
    "TestModel = BlockModel_reg(trainX,dual_output,8)\n",
    "TestModel.load_weights(cur_filepath)\n",
    "# regression result\n",
    "pr_bs = np.minimum(16,testX.shape[0])\n",
    "time1 = time.time()\n",
    "output = TestModel.predict(testX,batch_size=pr_bs,verbose=1)\n",
    "time2 = time.time()\n",
    "print('Infererence time: ',1000*(time2-time1)/testX.shape[0],' ms per slice')\n",
    "reg_output = output[0]\n",
    "class_output = output[1]\n",
    "\n",
    "from skimage.measure import compare_ssim as ssim\n",
    "SSIMs = [ssim(im1,im2) for im1, im2 in zip(testYr[...,0],reg_output[...,0])]\n",
    "\n",
    "num_bins = 10\n",
    "fig3 = plt.figure()\n",
    "n, bins, _ = plt.hist(SSIMs, num_bins, facecolor='blue', edgecolor='black', alpha=0.5)\n",
    "plt.show()\n",
    "print('Mean SSIM of ', np.mean(SSIMs))\n",
    "print('SSIM range of ', np.round(np.min(SSIMs),3), ' - ', np.round(np.max(SSIMs),3))\n",
    "\n",
    "# process classification result\n",
    "test_class_inds = np.argmax(class_output,axis=3)\n",
    "ytest_class_inds = np.argmax(testYc,axis=3)\n",
    "\n",
    "from VisTools import multi_slice_viewer0\n",
    "multi_slice_viewer0(np.c_[testX[:,1,...,0],reg_output[...,0],testYr[...,0]],'Test Data',SSIMs)\n",
    "multi_slice_viewer0(np.c_[testX[:,1,...,0],test_class_inds/3,ytest_class_inds/3])"
   ]
  }
 ],
 "metadata": {
  "kernelspec": {
   "display_name": "Python 3",
   "language": "python",
   "name": "python3"
  },
  "language_info": {
   "codemirror_mode": {
    "name": "ipython",
    "version": 3
   },
   "file_extension": ".py",
   "mimetype": "text/x-python",
   "name": "python",
   "nbconvert_exporter": "python",
   "pygments_lexer": "ipython3",
   "version": "3.5.4"
  }
 },
 "nbformat": 4,
 "nbformat_minor": 2
}
